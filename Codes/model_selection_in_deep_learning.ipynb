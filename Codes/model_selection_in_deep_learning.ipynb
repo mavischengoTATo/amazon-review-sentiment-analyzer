{
 "cells": [
  {
   "cell_type": "markdown",
   "metadata": {},
   "source": [
    "# Moedel selection in Deep learning"
   ]
  },
  {
   "cell_type": "markdown",
   "metadata": {},
   "source": [
    "## Data pre-processing"
   ]
  },
  {
   "cell_type": "code",
   "execution_count": 3,
   "metadata": {},
   "outputs": [
    {
     "name": "stdout",
     "output_type": "stream",
     "text": [
      "(103008, 10)\n"
     ]
    },
    {
     "data": {
      "text/html": [
       "<div>\n",
       "<style scoped>\n",
       "    .dataframe tbody tr th:only-of-type {\n",
       "        vertical-align: middle;\n",
       "    }\n",
       "\n",
       "    .dataframe tbody tr th {\n",
       "        vertical-align: top;\n",
       "    }\n",
       "\n",
       "    .dataframe thead th {\n",
       "        text-align: right;\n",
       "    }\n",
       "</style>\n",
       "<table border=\"1\" class=\"dataframe\">\n",
       "  <thead>\n",
       "    <tr style=\"text-align: right;\">\n",
       "      <th></th>\n",
       "      <th>Unnamed: 0</th>\n",
       "      <th>product_name</th>\n",
       "      <th>username</th>\n",
       "      <th>verification</th>\n",
       "      <th>point</th>\n",
       "      <th>date</th>\n",
       "      <th>review</th>\n",
       "      <th>detail</th>\n",
       "      <th>helpful</th>\n",
       "      <th>image</th>\n",
       "    </tr>\n",
       "  </thead>\n",
       "  <tbody>\n",
       "    <tr>\n",
       "      <th>0</th>\n",
       "      <td>0</td>\n",
       "      <td>Panasonic ErgoFit Wired Earbuds, In-Ear Headph...</td>\n",
       "      <td>ShepardsFool</td>\n",
       "      <td>Verified Purchase</td>\n",
       "      <td>1.0 out of 5 stars</td>\n",
       "      <td>Reviewed in the United States on November 22, ...</td>\n",
       "      <td>&lt;span&gt;Died in 2 days. Do not buy&lt;/span&gt;</td>\n",
       "      <td>&lt;span&gt;Within 2 days the right ear bud stopped ...</td>\n",
       "      <td>NaN</td>\n",
       "      <td>not image</td>\n",
       "    </tr>\n",
       "    <tr>\n",
       "      <th>1</th>\n",
       "      <td>1</td>\n",
       "      <td>Panasonic ErgoFit Wired Earbuds, In-Ear Headph...</td>\n",
       "      <td>jerry</td>\n",
       "      <td>Verified Purchase</td>\n",
       "      <td>1.0 out of 5 stars</td>\n",
       "      <td>Reviewed in the United States on November 22, ...</td>\n",
       "      <td>&lt;span&gt;Essentially worthless&lt;/span&gt;</td>\n",
       "      <td>&lt;span&gt;I ordered these and another pair from 1M...</td>\n",
       "      <td>NaN</td>\n",
       "      <td>not image</td>\n",
       "    </tr>\n",
       "    <tr>\n",
       "      <th>2</th>\n",
       "      <td>2</td>\n",
       "      <td>Panasonic ErgoFit Wired Earbuds, In-Ear Headph...</td>\n",
       "      <td>J. Barlow</td>\n",
       "      <td>Verified Purchase</td>\n",
       "      <td>5.0 out of 5 stars</td>\n",
       "      <td>Reviewed in the United States on November 22, ...</td>\n",
       "      <td>&lt;span&gt;Great sound&lt;/span&gt;</td>\n",
       "      <td>&lt;span&gt;These little buds pick up music greatly....</td>\n",
       "      <td>NaN</td>\n",
       "      <td>not image</td>\n",
       "    </tr>\n",
       "    <tr>\n",
       "      <th>3</th>\n",
       "      <td>3</td>\n",
       "      <td>Panasonic ErgoFit Wired Earbuds, In-Ear Headph...</td>\n",
       "      <td>lbt</td>\n",
       "      <td>Verified Purchase</td>\n",
       "      <td>2.0 out of 5 stars</td>\n",
       "      <td>Reviewed in the United States on November 22, ...</td>\n",
       "      <td>&lt;span&gt;Poor sound&lt;/span&gt;</td>\n",
       "      <td>&lt;span&gt;I don’t know that $8 is worth returning,...</td>\n",
       "      <td>NaN</td>\n",
       "      <td>not image</td>\n",
       "    </tr>\n",
       "    <tr>\n",
       "      <th>4</th>\n",
       "      <td>4</td>\n",
       "      <td>Panasonic ErgoFit Wired Earbuds, In-Ear Headph...</td>\n",
       "      <td>Katerine Jahne</td>\n",
       "      <td>Verified Purchase</td>\n",
       "      <td>5.0 out of 5 stars</td>\n",
       "      <td>Reviewed in the United States on November 21, ...</td>\n",
       "      <td>&lt;span&gt;Work Great!&lt;/span&gt;</td>\n",
       "      <td>&lt;span&gt;What can you say, they're headphones. Wo...</td>\n",
       "      <td>NaN</td>\n",
       "      <td>not image</td>\n",
       "    </tr>\n",
       "  </tbody>\n",
       "</table>\n",
       "</div>"
      ],
      "text/plain": [
       "   Unnamed: 0                                       product_name  \\\n",
       "0           0  Panasonic ErgoFit Wired Earbuds, In-Ear Headph...   \n",
       "1           1  Panasonic ErgoFit Wired Earbuds, In-Ear Headph...   \n",
       "2           2  Panasonic ErgoFit Wired Earbuds, In-Ear Headph...   \n",
       "3           3  Panasonic ErgoFit Wired Earbuds, In-Ear Headph...   \n",
       "4           4  Panasonic ErgoFit Wired Earbuds, In-Ear Headph...   \n",
       "\n",
       "         username       verification               point  \\\n",
       "0    ShepardsFool  Verified Purchase  1.0 out of 5 stars   \n",
       "1           jerry  Verified Purchase  1.0 out of 5 stars   \n",
       "2       J. Barlow  Verified Purchase  5.0 out of 5 stars   \n",
       "3             lbt  Verified Purchase  2.0 out of 5 stars   \n",
       "4  Katerine Jahne  Verified Purchase  5.0 out of 5 stars   \n",
       "\n",
       "                                                date  \\\n",
       "0  Reviewed in the United States on November 22, ...   \n",
       "1  Reviewed in the United States on November 22, ...   \n",
       "2  Reviewed in the United States on November 22, ...   \n",
       "3  Reviewed in the United States on November 22, ...   \n",
       "4  Reviewed in the United States on November 21, ...   \n",
       "\n",
       "                                    review  \\\n",
       "0  <span>Died in 2 days. Do not buy</span>   \n",
       "1       <span>Essentially worthless</span>   \n",
       "2                 <span>Great sound</span>   \n",
       "3                  <span>Poor sound</span>   \n",
       "4                 <span>Work Great!</span>   \n",
       "\n",
       "                                              detail helpful      image  \n",
       "0  <span>Within 2 days the right ear bud stopped ...     NaN  not image  \n",
       "1  <span>I ordered these and another pair from 1M...     NaN  not image  \n",
       "2  <span>These little buds pick up music greatly....     NaN  not image  \n",
       "3  <span>I don’t know that $8 is worth returning,...     NaN  not image  \n",
       "4  <span>What can you say, they're headphones. Wo...     NaN  not image  "
      ]
     },
     "execution_count": 3,
     "metadata": {},
     "output_type": "execute_result"
    }
   ],
   "source": [
    "import numpy as np\n",
    "import pandas as pd\n",
    "df = pd.read_csv(\"ALL.csv\") #read csv\n",
    "print(df.shape)\n",
    "df.head()"
   ]
  },
  {
   "cell_type": "code",
   "execution_count": 2,
   "metadata": {},
   "outputs": [
    {
     "name": "stdout",
     "output_type": "stream",
     "text": [
      "(103008, 6)\n"
     ]
    },
    {
     "data": {
      "text/html": [
       "<div>\n",
       "<style scoped>\n",
       "    .dataframe tbody tr th:only-of-type {\n",
       "        vertical-align: middle;\n",
       "    }\n",
       "\n",
       "    .dataframe tbody tr th {\n",
       "        vertical-align: top;\n",
       "    }\n",
       "\n",
       "    .dataframe thead th {\n",
       "        text-align: right;\n",
       "    }\n",
       "</style>\n",
       "<table border=\"1\" class=\"dataframe\">\n",
       "  <thead>\n",
       "    <tr style=\"text-align: right;\">\n",
       "      <th></th>\n",
       "      <th>product_name</th>\n",
       "      <th>username</th>\n",
       "      <th>verification</th>\n",
       "      <th>point</th>\n",
       "      <th>review</th>\n",
       "      <th>detail</th>\n",
       "    </tr>\n",
       "  </thead>\n",
       "  <tbody>\n",
       "    <tr>\n",
       "      <th>0</th>\n",
       "      <td>Panasonic ErgoFit Wired Earbuds, In-Ear Headph...</td>\n",
       "      <td>ShepardsFool</td>\n",
       "      <td>Verified Purchase</td>\n",
       "      <td>1.0 out of 5 stars</td>\n",
       "      <td>&lt;span&gt;Died in 2 days. Do not buy&lt;/span&gt;</td>\n",
       "      <td>&lt;span&gt;Within 2 days the right ear bud stopped ...</td>\n",
       "    </tr>\n",
       "    <tr>\n",
       "      <th>1</th>\n",
       "      <td>Panasonic ErgoFit Wired Earbuds, In-Ear Headph...</td>\n",
       "      <td>jerry</td>\n",
       "      <td>Verified Purchase</td>\n",
       "      <td>1.0 out of 5 stars</td>\n",
       "      <td>&lt;span&gt;Essentially worthless&lt;/span&gt;</td>\n",
       "      <td>&lt;span&gt;I ordered these and another pair from 1M...</td>\n",
       "    </tr>\n",
       "    <tr>\n",
       "      <th>2</th>\n",
       "      <td>Panasonic ErgoFit Wired Earbuds, In-Ear Headph...</td>\n",
       "      <td>J. Barlow</td>\n",
       "      <td>Verified Purchase</td>\n",
       "      <td>5.0 out of 5 stars</td>\n",
       "      <td>&lt;span&gt;Great sound&lt;/span&gt;</td>\n",
       "      <td>&lt;span&gt;These little buds pick up music greatly....</td>\n",
       "    </tr>\n",
       "    <tr>\n",
       "      <th>3</th>\n",
       "      <td>Panasonic ErgoFit Wired Earbuds, In-Ear Headph...</td>\n",
       "      <td>lbt</td>\n",
       "      <td>Verified Purchase</td>\n",
       "      <td>2.0 out of 5 stars</td>\n",
       "      <td>&lt;span&gt;Poor sound&lt;/span&gt;</td>\n",
       "      <td>&lt;span&gt;I don’t know that $8 is worth returning,...</td>\n",
       "    </tr>\n",
       "    <tr>\n",
       "      <th>4</th>\n",
       "      <td>Panasonic ErgoFit Wired Earbuds, In-Ear Headph...</td>\n",
       "      <td>Katerine Jahne</td>\n",
       "      <td>Verified Purchase</td>\n",
       "      <td>5.0 out of 5 stars</td>\n",
       "      <td>&lt;span&gt;Work Great!&lt;/span&gt;</td>\n",
       "      <td>&lt;span&gt;What can you say, they're headphones. Wo...</td>\n",
       "    </tr>\n",
       "  </tbody>\n",
       "</table>\n",
       "</div>"
      ],
      "text/plain": [
       "                                        product_name        username  \\\n",
       "0  Panasonic ErgoFit Wired Earbuds, In-Ear Headph...    ShepardsFool   \n",
       "1  Panasonic ErgoFit Wired Earbuds, In-Ear Headph...           jerry   \n",
       "2  Panasonic ErgoFit Wired Earbuds, In-Ear Headph...       J. Barlow   \n",
       "3  Panasonic ErgoFit Wired Earbuds, In-Ear Headph...             lbt   \n",
       "4  Panasonic ErgoFit Wired Earbuds, In-Ear Headph...  Katerine Jahne   \n",
       "\n",
       "        verification               point  \\\n",
       "0  Verified Purchase  1.0 out of 5 stars   \n",
       "1  Verified Purchase  1.0 out of 5 stars   \n",
       "2  Verified Purchase  5.0 out of 5 stars   \n",
       "3  Verified Purchase  2.0 out of 5 stars   \n",
       "4  Verified Purchase  5.0 out of 5 stars   \n",
       "\n",
       "                                    review  \\\n",
       "0  <span>Died in 2 days. Do not buy</span>   \n",
       "1       <span>Essentially worthless</span>   \n",
       "2                 <span>Great sound</span>   \n",
       "3                  <span>Poor sound</span>   \n",
       "4                 <span>Work Great!</span>   \n",
       "\n",
       "                                              detail  \n",
       "0  <span>Within 2 days the right ear bud stopped ...  \n",
       "1  <span>I ordered these and another pair from 1M...  \n",
       "2  <span>These little buds pick up music greatly....  \n",
       "3  <span>I don’t know that $8 is worth returning,...  \n",
       "4  <span>What can you say, they're headphones. Wo...  "
      ]
     },
     "execution_count": 2,
     "metadata": {},
     "output_type": "execute_result"
    }
   ],
   "source": [
    "#delete the unreletive column\n",
    "df = df.drop([\"Unnamed: 0\",\"date\",\"image\",\"helpful\"],axis=1)\n",
    "df = df.fillna('')\n",
    "print(df.shape)\n",
    "df.head()"
   ]
  },
  {
   "cell_type": "code",
   "execution_count": 3,
   "metadata": {},
   "outputs": [
    {
     "name": "stdout",
     "output_type": "stream",
     "text": [
      "(103008, 6)\n"
     ]
    },
    {
     "data": {
      "text/html": [
       "<div>\n",
       "<style scoped>\n",
       "    .dataframe tbody tr th:only-of-type {\n",
       "        vertical-align: middle;\n",
       "    }\n",
       "\n",
       "    .dataframe tbody tr th {\n",
       "        vertical-align: top;\n",
       "    }\n",
       "\n",
       "    .dataframe thead th {\n",
       "        text-align: right;\n",
       "    }\n",
       "</style>\n",
       "<table border=\"1\" class=\"dataframe\">\n",
       "  <thead>\n",
       "    <tr style=\"text-align: right;\">\n",
       "      <th></th>\n",
       "      <th>product_name</th>\n",
       "      <th>username</th>\n",
       "      <th>verification</th>\n",
       "      <th>point</th>\n",
       "      <th>review</th>\n",
       "      <th>detail</th>\n",
       "    </tr>\n",
       "  </thead>\n",
       "  <tbody>\n",
       "    <tr>\n",
       "      <th>0</th>\n",
       "      <td>Panasonic ErgoFit Wired Earbuds, In-Ear Headph...</td>\n",
       "      <td>ShepardsFool</td>\n",
       "      <td>Verified Purchase</td>\n",
       "      <td>1.0</td>\n",
       "      <td>&lt;span&gt;Died in 2 days. Do not buy&lt;/span&gt;</td>\n",
       "      <td>&lt;span&gt;Within 2 days the right ear bud stopped ...</td>\n",
       "    </tr>\n",
       "    <tr>\n",
       "      <th>1</th>\n",
       "      <td>Panasonic ErgoFit Wired Earbuds, In-Ear Headph...</td>\n",
       "      <td>jerry</td>\n",
       "      <td>Verified Purchase</td>\n",
       "      <td>1.0</td>\n",
       "      <td>&lt;span&gt;Essentially worthless&lt;/span&gt;</td>\n",
       "      <td>&lt;span&gt;I ordered these and another pair from 1M...</td>\n",
       "    </tr>\n",
       "    <tr>\n",
       "      <th>2</th>\n",
       "      <td>Panasonic ErgoFit Wired Earbuds, In-Ear Headph...</td>\n",
       "      <td>J. Barlow</td>\n",
       "      <td>Verified Purchase</td>\n",
       "      <td>5.0</td>\n",
       "      <td>&lt;span&gt;Great sound&lt;/span&gt;</td>\n",
       "      <td>&lt;span&gt;These little buds pick up music greatly....</td>\n",
       "    </tr>\n",
       "    <tr>\n",
       "      <th>3</th>\n",
       "      <td>Panasonic ErgoFit Wired Earbuds, In-Ear Headph...</td>\n",
       "      <td>lbt</td>\n",
       "      <td>Verified Purchase</td>\n",
       "      <td>2.0</td>\n",
       "      <td>&lt;span&gt;Poor sound&lt;/span&gt;</td>\n",
       "      <td>&lt;span&gt;I don’t know that $8 is worth returning,...</td>\n",
       "    </tr>\n",
       "    <tr>\n",
       "      <th>4</th>\n",
       "      <td>Panasonic ErgoFit Wired Earbuds, In-Ear Headph...</td>\n",
       "      <td>Katerine Jahne</td>\n",
       "      <td>Verified Purchase</td>\n",
       "      <td>5.0</td>\n",
       "      <td>&lt;span&gt;Work Great!&lt;/span&gt;</td>\n",
       "      <td>&lt;span&gt;What can you say, they're headphones. Wo...</td>\n",
       "    </tr>\n",
       "  </tbody>\n",
       "</table>\n",
       "</div>"
      ],
      "text/plain": [
       "                                        product_name        username  \\\n",
       "0  Panasonic ErgoFit Wired Earbuds, In-Ear Headph...    ShepardsFool   \n",
       "1  Panasonic ErgoFit Wired Earbuds, In-Ear Headph...           jerry   \n",
       "2  Panasonic ErgoFit Wired Earbuds, In-Ear Headph...       J. Barlow   \n",
       "3  Panasonic ErgoFit Wired Earbuds, In-Ear Headph...             lbt   \n",
       "4  Panasonic ErgoFit Wired Earbuds, In-Ear Headph...  Katerine Jahne   \n",
       "\n",
       "        verification point                                   review  \\\n",
       "0  Verified Purchase   1.0  <span>Died in 2 days. Do not buy</span>   \n",
       "1  Verified Purchase   1.0       <span>Essentially worthless</span>   \n",
       "2  Verified Purchase   5.0                 <span>Great sound</span>   \n",
       "3  Verified Purchase   2.0                  <span>Poor sound</span>   \n",
       "4  Verified Purchase   5.0                 <span>Work Great!</span>   \n",
       "\n",
       "                                              detail  \n",
       "0  <span>Within 2 days the right ear bud stopped ...  \n",
       "1  <span>I ordered these and another pair from 1M...  \n",
       "2  <span>These little buds pick up music greatly....  \n",
       "3  <span>I don’t know that $8 is worth returning,...  \n",
       "4  <span>What can you say, they're headphones. Wo...  "
      ]
     },
     "execution_count": 3,
     "metadata": {},
     "output_type": "execute_result"
    }
   ],
   "source": [
    "import re\n",
    "\n",
    "for i in range(len(df[\"point\"])):\n",
    "    str_point = df[\"point\"][i]\n",
    "    result = re.match(pattern='[0-9]\\.[0-9]',string=str_point)\n",
    "    df[\"point\"][i] = result.group()\n",
    "print(df.shape)\n",
    "df.head()"
   ]
  },
  {
   "cell_type": "code",
   "execution_count": 4,
   "metadata": {},
   "outputs": [
    {
     "data": {
      "text/html": [
       "<div>\n",
       "<style scoped>\n",
       "    .dataframe tbody tr th:only-of-type {\n",
       "        vertical-align: middle;\n",
       "    }\n",
       "\n",
       "    .dataframe tbody tr th {\n",
       "        vertical-align: top;\n",
       "    }\n",
       "\n",
       "    .dataframe thead th {\n",
       "        text-align: right;\n",
       "    }\n",
       "</style>\n",
       "<table border=\"1\" class=\"dataframe\">\n",
       "  <thead>\n",
       "    <tr style=\"text-align: right;\">\n",
       "      <th></th>\n",
       "      <th>product_name</th>\n",
       "      <th>username</th>\n",
       "      <th>verification</th>\n",
       "      <th>point</th>\n",
       "      <th>review</th>\n",
       "      <th>detail</th>\n",
       "    </tr>\n",
       "  </thead>\n",
       "  <tbody>\n",
       "    <tr>\n",
       "      <th>0</th>\n",
       "      <td>Panasonic ErgoFit Wired Earbuds, In-Ear Headph...</td>\n",
       "      <td>ShepardsFool</td>\n",
       "      <td>Verified Purchase</td>\n",
       "      <td>1.0</td>\n",
       "      <td>Died in 2 days. Do not buy</td>\n",
       "      <td>&lt;span&gt;Within 2 days the right ear bud stopped ...</td>\n",
       "    </tr>\n",
       "    <tr>\n",
       "      <th>1</th>\n",
       "      <td>Panasonic ErgoFit Wired Earbuds, In-Ear Headph...</td>\n",
       "      <td>jerry</td>\n",
       "      <td>Verified Purchase</td>\n",
       "      <td>1.0</td>\n",
       "      <td>Essentially worthless</td>\n",
       "      <td>&lt;span&gt;I ordered these and another pair from 1M...</td>\n",
       "    </tr>\n",
       "    <tr>\n",
       "      <th>2</th>\n",
       "      <td>Panasonic ErgoFit Wired Earbuds, In-Ear Headph...</td>\n",
       "      <td>J. Barlow</td>\n",
       "      <td>Verified Purchase</td>\n",
       "      <td>5.0</td>\n",
       "      <td>Great sound</td>\n",
       "      <td>&lt;span&gt;These little buds pick up music greatly....</td>\n",
       "    </tr>\n",
       "    <tr>\n",
       "      <th>3</th>\n",
       "      <td>Panasonic ErgoFit Wired Earbuds, In-Ear Headph...</td>\n",
       "      <td>lbt</td>\n",
       "      <td>Verified Purchase</td>\n",
       "      <td>2.0</td>\n",
       "      <td>Poor sound</td>\n",
       "      <td>&lt;span&gt;I don’t know that $8 is worth returning,...</td>\n",
       "    </tr>\n",
       "    <tr>\n",
       "      <th>4</th>\n",
       "      <td>Panasonic ErgoFit Wired Earbuds, In-Ear Headph...</td>\n",
       "      <td>Katerine Jahne</td>\n",
       "      <td>Verified Purchase</td>\n",
       "      <td>5.0</td>\n",
       "      <td>Work Great!</td>\n",
       "      <td>&lt;span&gt;What can you say, they're headphones. Wo...</td>\n",
       "    </tr>\n",
       "  </tbody>\n",
       "</table>\n",
       "</div>"
      ],
      "text/plain": [
       "                                        product_name        username  \\\n",
       "0  Panasonic ErgoFit Wired Earbuds, In-Ear Headph...    ShepardsFool   \n",
       "1  Panasonic ErgoFit Wired Earbuds, In-Ear Headph...           jerry   \n",
       "2  Panasonic ErgoFit Wired Earbuds, In-Ear Headph...       J. Barlow   \n",
       "3  Panasonic ErgoFit Wired Earbuds, In-Ear Headph...             lbt   \n",
       "4  Panasonic ErgoFit Wired Earbuds, In-Ear Headph...  Katerine Jahne   \n",
       "\n",
       "        verification point                      review  \\\n",
       "0  Verified Purchase   1.0  Died in 2 days. Do not buy   \n",
       "1  Verified Purchase   1.0       Essentially worthless   \n",
       "2  Verified Purchase   5.0                 Great sound   \n",
       "3  Verified Purchase   2.0                  Poor sound   \n",
       "4  Verified Purchase   5.0                 Work Great!   \n",
       "\n",
       "                                              detail  \n",
       "0  <span>Within 2 days the right ear bud stopped ...  \n",
       "1  <span>I ordered these and another pair from 1M...  \n",
       "2  <span>These little buds pick up music greatly....  \n",
       "3  <span>I don’t know that $8 is worth returning,...  \n",
       "4  <span>What can you say, they're headphones. Wo...  "
      ]
     },
     "execution_count": 4,
     "metadata": {},
     "output_type": "execute_result"
    }
   ],
   "source": [
    "from bs4 import BeautifulSoup\n",
    "for i in range(len(df[\"review\"])):\n",
    "    str_title = df[\"review\"][i]\n",
    "    bsObj = BeautifulSoup(str_title, 'lxml')\n",
    "    df[\"review\"][i] = bsObj.get_text()\n",
    "df.head()"
   ]
  },
  {
   "cell_type": "code",
   "execution_count": 5,
   "metadata": {},
   "outputs": [
    {
     "data": {
      "text/html": [
       "<div>\n",
       "<style scoped>\n",
       "    .dataframe tbody tr th:only-of-type {\n",
       "        vertical-align: middle;\n",
       "    }\n",
       "\n",
       "    .dataframe tbody tr th {\n",
       "        vertical-align: top;\n",
       "    }\n",
       "\n",
       "    .dataframe thead th {\n",
       "        text-align: right;\n",
       "    }\n",
       "</style>\n",
       "<table border=\"1\" class=\"dataframe\">\n",
       "  <thead>\n",
       "    <tr style=\"text-align: right;\">\n",
       "      <th></th>\n",
       "      <th>product_name</th>\n",
       "      <th>username</th>\n",
       "      <th>verification</th>\n",
       "      <th>point</th>\n",
       "      <th>review</th>\n",
       "      <th>detail</th>\n",
       "    </tr>\n",
       "  </thead>\n",
       "  <tbody>\n",
       "    <tr>\n",
       "      <th>0</th>\n",
       "      <td>Panasonic ErgoFit Wired Earbuds, In-Ear Headph...</td>\n",
       "      <td>ShepardsFool</td>\n",
       "      <td>Verified Purchase</td>\n",
       "      <td>1.0</td>\n",
       "      <td>Died in 2 days. Do not buy</td>\n",
       "      <td>Within 2 days the right ear bud stopped workin...</td>\n",
       "    </tr>\n",
       "    <tr>\n",
       "      <th>1</th>\n",
       "      <td>Panasonic ErgoFit Wired Earbuds, In-Ear Headph...</td>\n",
       "      <td>jerry</td>\n",
       "      <td>Verified Purchase</td>\n",
       "      <td>1.0</td>\n",
       "      <td>Essentially worthless</td>\n",
       "      <td>I ordered these and another pair from 1More. T...</td>\n",
       "    </tr>\n",
       "    <tr>\n",
       "      <th>2</th>\n",
       "      <td>Panasonic ErgoFit Wired Earbuds, In-Ear Headph...</td>\n",
       "      <td>J. Barlow</td>\n",
       "      <td>Verified Purchase</td>\n",
       "      <td>5.0</td>\n",
       "      <td>Great sound</td>\n",
       "      <td>These little buds pick up music greatly.  I ca...</td>\n",
       "    </tr>\n",
       "    <tr>\n",
       "      <th>3</th>\n",
       "      <td>Panasonic ErgoFit Wired Earbuds, In-Ear Headph...</td>\n",
       "      <td>lbt</td>\n",
       "      <td>Verified Purchase</td>\n",
       "      <td>2.0</td>\n",
       "      <td>Poor sound</td>\n",
       "      <td>I don’t know that $8 is worth returning, but u...</td>\n",
       "    </tr>\n",
       "    <tr>\n",
       "      <th>4</th>\n",
       "      <td>Panasonic ErgoFit Wired Earbuds, In-Ear Headph...</td>\n",
       "      <td>Katerine Jahne</td>\n",
       "      <td>Verified Purchase</td>\n",
       "      <td>5.0</td>\n",
       "      <td>Work Great!</td>\n",
       "      <td>What can you say, they're headphones. Work well.</td>\n",
       "    </tr>\n",
       "  </tbody>\n",
       "</table>\n",
       "</div>"
      ],
      "text/plain": [
       "                                        product_name        username  \\\n",
       "0  Panasonic ErgoFit Wired Earbuds, In-Ear Headph...    ShepardsFool   \n",
       "1  Panasonic ErgoFit Wired Earbuds, In-Ear Headph...           jerry   \n",
       "2  Panasonic ErgoFit Wired Earbuds, In-Ear Headph...       J. Barlow   \n",
       "3  Panasonic ErgoFit Wired Earbuds, In-Ear Headph...             lbt   \n",
       "4  Panasonic ErgoFit Wired Earbuds, In-Ear Headph...  Katerine Jahne   \n",
       "\n",
       "        verification point                      review  \\\n",
       "0  Verified Purchase   1.0  Died in 2 days. Do not buy   \n",
       "1  Verified Purchase   1.0       Essentially worthless   \n",
       "2  Verified Purchase   5.0                 Great sound   \n",
       "3  Verified Purchase   2.0                  Poor sound   \n",
       "4  Verified Purchase   5.0                 Work Great!   \n",
       "\n",
       "                                              detail  \n",
       "0  Within 2 days the right ear bud stopped workin...  \n",
       "1  I ordered these and another pair from 1More. T...  \n",
       "2  These little buds pick up music greatly.  I ca...  \n",
       "3  I don’t know that $8 is worth returning, but u...  \n",
       "4   What can you say, they're headphones. Work well.  "
      ]
     },
     "execution_count": 5,
     "metadata": {},
     "output_type": "execute_result"
    }
   ],
   "source": [
    "for i in range(len(df[\"detail\"])):\n",
    "    str_review = df[\"detail\"][i]\n",
    "    bsObj = BeautifulSoup(str_review, 'lxml')\n",
    "    df[\"detail\"][i] = bsObj.get_text()\n",
    "df.head()"
   ]
  },
  {
   "cell_type": "code",
   "execution_count": 6,
   "metadata": {},
   "outputs": [],
   "source": [
    "#emoji\n",
    "import emoji\n",
    "def remove_emoji(text, replace=\"\"):\n",
    "    return emoji.replace_emoji(text,replace=\"\")\n",
    "\n",
    "for i in range(len(df[\"review\"])):\n",
    "    text = df[\"review\"][i]\n",
    "    res = remove_emoji(text, '')\n",
    "    df[\"review\"][i] = res\n",
    "\n",
    "for i in range(len(df[\"detail\"])):\n",
    "    text = df[\"detail\"][i]\n",
    "    res = remove_emoji(text, '')\n",
    "    df[\"detail\"][i] = res\n",
    "df.head()\n",
    "df.to_csv('offemoji.csv')"
   ]
  },
  {
   "cell_type": "code",
   "execution_count": 47,
   "metadata": {},
   "outputs": [],
   "source": [
    "import matplotlib.pyplot as plt"
   ]
  },
  {
   "cell_type": "code",
   "execution_count": 4,
   "metadata": {},
   "outputs": [
    {
     "data": {
      "text/html": [
       "<div>\n",
       "<style scoped>\n",
       "    .dataframe tbody tr th:only-of-type {\n",
       "        vertical-align: middle;\n",
       "    }\n",
       "\n",
       "    .dataframe tbody tr th {\n",
       "        vertical-align: top;\n",
       "    }\n",
       "\n",
       "    .dataframe thead th {\n",
       "        text-align: right;\n",
       "    }\n",
       "</style>\n",
       "<table border=\"1\" class=\"dataframe\">\n",
       "  <thead>\n",
       "    <tr style=\"text-align: right;\">\n",
       "      <th></th>\n",
       "      <th>Unnamed: 0</th>\n",
       "      <th>product_name</th>\n",
       "      <th>username</th>\n",
       "      <th>verification</th>\n",
       "      <th>point</th>\n",
       "      <th>review</th>\n",
       "      <th>detail</th>\n",
       "    </tr>\n",
       "  </thead>\n",
       "  <tbody>\n",
       "    <tr>\n",
       "      <th>0</th>\n",
       "      <td>0</td>\n",
       "      <td>Panasonic ErgoFit Wired Earbuds, In-Ear Headph...</td>\n",
       "      <td>ShepardsFool</td>\n",
       "      <td>Verified Purchase</td>\n",
       "      <td>1.0</td>\n",
       "      <td>Died in 2 days. Do not buy</td>\n",
       "      <td>Within 2 days the right ear bud stopped workin...</td>\n",
       "    </tr>\n",
       "    <tr>\n",
       "      <th>1</th>\n",
       "      <td>1</td>\n",
       "      <td>Panasonic ErgoFit Wired Earbuds, In-Ear Headph...</td>\n",
       "      <td>jerry</td>\n",
       "      <td>Verified Purchase</td>\n",
       "      <td>1.0</td>\n",
       "      <td>Essentially worthless</td>\n",
       "      <td>I ordered these and another pair from 1More. T...</td>\n",
       "    </tr>\n",
       "    <tr>\n",
       "      <th>2</th>\n",
       "      <td>2</td>\n",
       "      <td>Panasonic ErgoFit Wired Earbuds, In-Ear Headph...</td>\n",
       "      <td>J. Barlow</td>\n",
       "      <td>Verified Purchase</td>\n",
       "      <td>5.0</td>\n",
       "      <td>Great sound</td>\n",
       "      <td>These little buds pick up music greatly.  I ca...</td>\n",
       "    </tr>\n",
       "    <tr>\n",
       "      <th>3</th>\n",
       "      <td>3</td>\n",
       "      <td>Panasonic ErgoFit Wired Earbuds, In-Ear Headph...</td>\n",
       "      <td>lbt</td>\n",
       "      <td>Verified Purchase</td>\n",
       "      <td>2.0</td>\n",
       "      <td>Poor sound</td>\n",
       "      <td>I don’t know that $8 is worth returning, but u...</td>\n",
       "    </tr>\n",
       "    <tr>\n",
       "      <th>4</th>\n",
       "      <td>4</td>\n",
       "      <td>Panasonic ErgoFit Wired Earbuds, In-Ear Headph...</td>\n",
       "      <td>Katerine Jahne</td>\n",
       "      <td>Verified Purchase</td>\n",
       "      <td>5.0</td>\n",
       "      <td>Work Great!</td>\n",
       "      <td>What can you say, they're headphones. Work well.</td>\n",
       "    </tr>\n",
       "  </tbody>\n",
       "</table>\n",
       "</div>"
      ],
      "text/plain": [
       "   Unnamed: 0                                       product_name  \\\n",
       "0           0  Panasonic ErgoFit Wired Earbuds, In-Ear Headph...   \n",
       "1           1  Panasonic ErgoFit Wired Earbuds, In-Ear Headph...   \n",
       "2           2  Panasonic ErgoFit Wired Earbuds, In-Ear Headph...   \n",
       "3           3  Panasonic ErgoFit Wired Earbuds, In-Ear Headph...   \n",
       "4           4  Panasonic ErgoFit Wired Earbuds, In-Ear Headph...   \n",
       "\n",
       "         username       verification  point                      review  \\\n",
       "0    ShepardsFool  Verified Purchase    1.0  Died in 2 days. Do not buy   \n",
       "1           jerry  Verified Purchase    1.0       Essentially worthless   \n",
       "2       J. Barlow  Verified Purchase    5.0                 Great sound   \n",
       "3             lbt  Verified Purchase    2.0                  Poor sound   \n",
       "4  Katerine Jahne  Verified Purchase    5.0                 Work Great!   \n",
       "\n",
       "                                              detail  \n",
       "0  Within 2 days the right ear bud stopped workin...  \n",
       "1  I ordered these and another pair from 1More. T...  \n",
       "2  These little buds pick up music greatly.  I ca...  \n",
       "3  I don’t know that $8 is worth returning, but u...  \n",
       "4   What can you say, they're headphones. Work well.  "
      ]
     },
     "execution_count": 4,
     "metadata": {},
     "output_type": "execute_result"
    }
   ],
   "source": [
    "import pandas as pd\n",
    "\n",
    "df= pd.read_csv(\"offemoji.csv\")\n",
    "df.head()"
   ]
  },
  {
   "cell_type": "code",
   "execution_count": 5,
   "metadata": {},
   "outputs": [
    {
     "name": "stdout",
     "output_type": "stream",
     "text": [
      "(101081, 7)\n"
     ]
    },
    {
     "data": {
      "text/html": [
       "<div>\n",
       "<style scoped>\n",
       "    .dataframe tbody tr th:only-of-type {\n",
       "        vertical-align: middle;\n",
       "    }\n",
       "\n",
       "    .dataframe tbody tr th {\n",
       "        vertical-align: top;\n",
       "    }\n",
       "\n",
       "    .dataframe thead th {\n",
       "        text-align: right;\n",
       "    }\n",
       "</style>\n",
       "<table border=\"1\" class=\"dataframe\">\n",
       "  <thead>\n",
       "    <tr style=\"text-align: right;\">\n",
       "      <th></th>\n",
       "      <th>Unnamed: 0</th>\n",
       "      <th>product_name</th>\n",
       "      <th>username</th>\n",
       "      <th>verification</th>\n",
       "      <th>point</th>\n",
       "      <th>review</th>\n",
       "      <th>detail</th>\n",
       "    </tr>\n",
       "  </thead>\n",
       "  <tbody>\n",
       "    <tr>\n",
       "      <th>0</th>\n",
       "      <td>0</td>\n",
       "      <td>Panasonic ErgoFit Wired Earbuds, In-Ear Headph...</td>\n",
       "      <td>ShepardsFool</td>\n",
       "      <td>Verified Purchase</td>\n",
       "      <td>1.0</td>\n",
       "      <td>Died in 2 days. Do not buy</td>\n",
       "      <td>Within 2 days the right ear bud stopped workin...</td>\n",
       "    </tr>\n",
       "    <tr>\n",
       "      <th>1</th>\n",
       "      <td>1</td>\n",
       "      <td>Panasonic ErgoFit Wired Earbuds, In-Ear Headph...</td>\n",
       "      <td>jerry</td>\n",
       "      <td>Verified Purchase</td>\n",
       "      <td>1.0</td>\n",
       "      <td>Essentially worthless</td>\n",
       "      <td>I ordered these and another pair from 1More. T...</td>\n",
       "    </tr>\n",
       "    <tr>\n",
       "      <th>2</th>\n",
       "      <td>2</td>\n",
       "      <td>Panasonic ErgoFit Wired Earbuds, In-Ear Headph...</td>\n",
       "      <td>J. Barlow</td>\n",
       "      <td>Verified Purchase</td>\n",
       "      <td>5.0</td>\n",
       "      <td>Great sound</td>\n",
       "      <td>These little buds pick up music greatly.  I ca...</td>\n",
       "    </tr>\n",
       "    <tr>\n",
       "      <th>3</th>\n",
       "      <td>3</td>\n",
       "      <td>Panasonic ErgoFit Wired Earbuds, In-Ear Headph...</td>\n",
       "      <td>lbt</td>\n",
       "      <td>Verified Purchase</td>\n",
       "      <td>2.0</td>\n",
       "      <td>Poor sound</td>\n",
       "      <td>I don’t know that $8 is worth returning, but u...</td>\n",
       "    </tr>\n",
       "    <tr>\n",
       "      <th>4</th>\n",
       "      <td>4</td>\n",
       "      <td>Panasonic ErgoFit Wired Earbuds, In-Ear Headph...</td>\n",
       "      <td>Katerine Jahne</td>\n",
       "      <td>Verified Purchase</td>\n",
       "      <td>5.0</td>\n",
       "      <td>Work Great!</td>\n",
       "      <td>What can you say, they're headphones. Work well.</td>\n",
       "    </tr>\n",
       "  </tbody>\n",
       "</table>\n",
       "</div>"
      ],
      "text/plain": [
       "   Unnamed: 0                                       product_name  \\\n",
       "0           0  Panasonic ErgoFit Wired Earbuds, In-Ear Headph...   \n",
       "1           1  Panasonic ErgoFit Wired Earbuds, In-Ear Headph...   \n",
       "2           2  Panasonic ErgoFit Wired Earbuds, In-Ear Headph...   \n",
       "3           3  Panasonic ErgoFit Wired Earbuds, In-Ear Headph...   \n",
       "4           4  Panasonic ErgoFit Wired Earbuds, In-Ear Headph...   \n",
       "\n",
       "         username       verification  point                      review  \\\n",
       "0    ShepardsFool  Verified Purchase    1.0  Died in 2 days. Do not buy   \n",
       "1           jerry  Verified Purchase    1.0       Essentially worthless   \n",
       "2       J. Barlow  Verified Purchase    5.0                 Great sound   \n",
       "3             lbt  Verified Purchase    2.0                  Poor sound   \n",
       "4  Katerine Jahne  Verified Purchase    5.0                 Work Great!   \n",
       "\n",
       "                                              detail  \n",
       "0  Within 2 days the right ear bud stopped workin...  \n",
       "1  I ordered these and another pair from 1More. T...  \n",
       "2  These little buds pick up music greatly.  I ca...  \n",
       "3  I don’t know that $8 is worth returning, but u...  \n",
       "4   What can you say, they're headphones. Work well.  "
      ]
     },
     "execution_count": 5,
     "metadata": {},
     "output_type": "execute_result"
    }
   ],
   "source": [
    "df1 = df[df[\"detail\"].str.len()>5]\n",
    "print(df1.shape)\n",
    "df1.head()"
   ]
  },
  {
   "cell_type": "code",
   "execution_count": 6,
   "metadata": {},
   "outputs": [
    {
     "name": "stdout",
     "output_type": "stream",
     "text": [
      "(87456, 7)\n"
     ]
    }
   ],
   "source": [
    "df1 = df1.dropna()\n",
    "print(df1.shape)"
   ]
  },
  {
   "cell_type": "code",
   "execution_count": 7,
   "metadata": {},
   "outputs": [
    {
     "data": {
      "text/plain": [
       "(80141, 7)"
      ]
     },
     "execution_count": 7,
     "metadata": {},
     "output_type": "execute_result"
    }
   ],
   "source": [
    "df1.drop_duplicates(subset=['product_name','username'],keep='first',inplace=True,ignore_index=True)\n",
    "df1.shape"
   ]
  },
  {
   "cell_type": "code",
   "execution_count": 8,
   "metadata": {},
   "outputs": [
    {
     "name": "stderr",
     "output_type": "stream",
     "text": [
      "/Users/xiangxin/miniforge3/envs/anly-580/lib/python3.9/site-packages/bs4/__init__.py:435: MarkupResemblesLocatorWarning: The input looks more like a filename than markup. You may want to open this file and pass the filehandle into Beautiful Soup.\n",
      "  warnings.warn(\n",
      "/Users/xiangxin/miniforge3/envs/anly-580/lib/python3.9/site-packages/bs4/__init__.py:404: MarkupResemblesLocatorWarning: The input looks more like a URL than markup. You may want to use an HTTP client like requests to get the document behind the URL, and feed that document to Beautiful Soup.\n",
      "  warnings.warn(\n"
     ]
    }
   ],
   "source": [
    "from bs4 import BeautifulSoup\n",
    "import re\n",
    "\n",
    "def remove_html(text):\n",
    "    bs = BeautifulSoup(text, \"html.parser\")\n",
    "    return ' ' + bs.get_text() + ' '\n",
    " \n",
    "def keep_only_letters(text):\n",
    "    text=re.sub(r'[^a-zA-Z\\s]',' ',text)\n",
    "    return text\n",
    " \n",
    "def convert_to_lowercase(text):\n",
    "    return text.lower()\n",
    " \n",
    "def clean_reviews(text):\n",
    "    text = remove_html(text)\n",
    "    text = keep_only_letters(text)\n",
    "    text = convert_to_lowercase(text)\n",
    "    return text\n",
    " \n",
    "df1['detail'] = df1['detail'].apply(lambda review: clean_reviews(review))"
   ]
  },
  {
   "cell_type": "code",
   "execution_count": 9,
   "metadata": {},
   "outputs": [
    {
     "data": {
      "text/html": [
       "<div>\n",
       "<style scoped>\n",
       "    .dataframe tbody tr th:only-of-type {\n",
       "        vertical-align: middle;\n",
       "    }\n",
       "\n",
       "    .dataframe tbody tr th {\n",
       "        vertical-align: top;\n",
       "    }\n",
       "\n",
       "    .dataframe thead th {\n",
       "        text-align: right;\n",
       "    }\n",
       "</style>\n",
       "<table border=\"1\" class=\"dataframe\">\n",
       "  <thead>\n",
       "    <tr style=\"text-align: right;\">\n",
       "      <th></th>\n",
       "      <th>Unnamed: 0</th>\n",
       "      <th>product_name</th>\n",
       "      <th>username</th>\n",
       "      <th>verification</th>\n",
       "      <th>point</th>\n",
       "      <th>review</th>\n",
       "      <th>detail</th>\n",
       "    </tr>\n",
       "  </thead>\n",
       "  <tbody>\n",
       "    <tr>\n",
       "      <th>0</th>\n",
       "      <td>0</td>\n",
       "      <td>Panasonic ErgoFit Wired Earbuds, In-Ear Headph...</td>\n",
       "      <td>ShepardsFool</td>\n",
       "      <td>Verified Purchase</td>\n",
       "      <td>1.0</td>\n",
       "      <td>Died in 2 days. Do not buy</td>\n",
       "      <td>within   days the right ear bud stopped worki...</td>\n",
       "    </tr>\n",
       "    <tr>\n",
       "      <th>1</th>\n",
       "      <td>1</td>\n",
       "      <td>Panasonic ErgoFit Wired Earbuds, In-Ear Headph...</td>\n",
       "      <td>jerry</td>\n",
       "      <td>Verified Purchase</td>\n",
       "      <td>1.0</td>\n",
       "      <td>Essentially worthless</td>\n",
       "      <td>i ordered these and another pair from  more  ...</td>\n",
       "    </tr>\n",
       "    <tr>\n",
       "      <th>2</th>\n",
       "      <td>2</td>\n",
       "      <td>Panasonic ErgoFit Wired Earbuds, In-Ear Headph...</td>\n",
       "      <td>J. Barlow</td>\n",
       "      <td>Verified Purchase</td>\n",
       "      <td>5.0</td>\n",
       "      <td>Great sound</td>\n",
       "      <td>these little buds pick up music greatly   i c...</td>\n",
       "    </tr>\n",
       "    <tr>\n",
       "      <th>3</th>\n",
       "      <td>3</td>\n",
       "      <td>Panasonic ErgoFit Wired Earbuds, In-Ear Headph...</td>\n",
       "      <td>lbt</td>\n",
       "      <td>Verified Purchase</td>\n",
       "      <td>2.0</td>\n",
       "      <td>Poor sound</td>\n",
       "      <td>i don t know that    is worth returning  but ...</td>\n",
       "    </tr>\n",
       "    <tr>\n",
       "      <th>4</th>\n",
       "      <td>4</td>\n",
       "      <td>Panasonic ErgoFit Wired Earbuds, In-Ear Headph...</td>\n",
       "      <td>Katerine Jahne</td>\n",
       "      <td>Verified Purchase</td>\n",
       "      <td>5.0</td>\n",
       "      <td>Work Great!</td>\n",
       "      <td>what can you say  they re headphones  work we...</td>\n",
       "    </tr>\n",
       "    <tr>\n",
       "      <th>...</th>\n",
       "      <td>...</td>\n",
       "      <td>...</td>\n",
       "      <td>...</td>\n",
       "      <td>...</td>\n",
       "      <td>...</td>\n",
       "      <td>...</td>\n",
       "      <td>...</td>\n",
       "    </tr>\n",
       "    <tr>\n",
       "      <th>80136</th>\n",
       "      <td>102878</td>\n",
       "      <td>Skullcandy Hesh Evo Wireless Over-Ear Headphon...</td>\n",
       "      <td>SC</td>\n",
       "      <td>Verified Purchase</td>\n",
       "      <td>5.0</td>\n",
       "      <td>Just what I needed!</td>\n",
       "      <td>i like these a lot  i ve never managed to fin...</td>\n",
       "    </tr>\n",
       "    <tr>\n",
       "      <th>80137</th>\n",
       "      <td>102880</td>\n",
       "      <td>Skullcandy Hesh Evo Wireless Over-Ear Headphon...</td>\n",
       "      <td>Fox</td>\n",
       "      <td>Verified Purchase</td>\n",
       "      <td>5.0</td>\n",
       "      <td>Good quality great sound.</td>\n",
       "      <td>i had the black ones and now i m ordering the...</td>\n",
       "    </tr>\n",
       "    <tr>\n",
       "      <th>80138</th>\n",
       "      <td>102885</td>\n",
       "      <td>Skullcandy Hesh Evo Wireless Over-Ear Headphon...</td>\n",
       "      <td>Darcy</td>\n",
       "      <td>Verified Purchase</td>\n",
       "      <td>5.0</td>\n",
       "      <td>Love the bass of this headphone</td>\n",
       "      <td>i was a bit hesitant at first  i didn t know ...</td>\n",
       "    </tr>\n",
       "    <tr>\n",
       "      <th>80139</th>\n",
       "      <td>102886</td>\n",
       "      <td>Skullcandy Hesh Evo Wireless Over-Ear Headphon...</td>\n",
       "      <td>Elise</td>\n",
       "      <td>Verified Purchase</td>\n",
       "      <td>5.0</td>\n",
       "      <td>Love them</td>\n",
       "      <td>best sound for value  i ve had no issues with...</td>\n",
       "    </tr>\n",
       "    <tr>\n",
       "      <th>80140</th>\n",
       "      <td>102888</td>\n",
       "      <td>Skullcandy Hesh Evo Wireless Over-Ear Headphon...</td>\n",
       "      <td>Miranda Jackson-Boone</td>\n",
       "      <td>Verified Purchase</td>\n",
       "      <td>5.0</td>\n",
       "      <td>Love, Love!</td>\n",
       "      <td>i spent a long time trying to find a good set...</td>\n",
       "    </tr>\n",
       "  </tbody>\n",
       "</table>\n",
       "<p>80141 rows × 7 columns</p>\n",
       "</div>"
      ],
      "text/plain": [
       "       Unnamed: 0                                       product_name  \\\n",
       "0               0  Panasonic ErgoFit Wired Earbuds, In-Ear Headph...   \n",
       "1               1  Panasonic ErgoFit Wired Earbuds, In-Ear Headph...   \n",
       "2               2  Panasonic ErgoFit Wired Earbuds, In-Ear Headph...   \n",
       "3               3  Panasonic ErgoFit Wired Earbuds, In-Ear Headph...   \n",
       "4               4  Panasonic ErgoFit Wired Earbuds, In-Ear Headph...   \n",
       "...           ...                                                ...   \n",
       "80136      102878  Skullcandy Hesh Evo Wireless Over-Ear Headphon...   \n",
       "80137      102880  Skullcandy Hesh Evo Wireless Over-Ear Headphon...   \n",
       "80138      102885  Skullcandy Hesh Evo Wireless Over-Ear Headphon...   \n",
       "80139      102886  Skullcandy Hesh Evo Wireless Over-Ear Headphon...   \n",
       "80140      102888  Skullcandy Hesh Evo Wireless Over-Ear Headphon...   \n",
       "\n",
       "                    username       verification  point  \\\n",
       "0               ShepardsFool  Verified Purchase    1.0   \n",
       "1                      jerry  Verified Purchase    1.0   \n",
       "2                  J. Barlow  Verified Purchase    5.0   \n",
       "3                        lbt  Verified Purchase    2.0   \n",
       "4             Katerine Jahne  Verified Purchase    5.0   \n",
       "...                      ...                ...    ...   \n",
       "80136                     SC  Verified Purchase    5.0   \n",
       "80137                    Fox  Verified Purchase    5.0   \n",
       "80138                  Darcy  Verified Purchase    5.0   \n",
       "80139                  Elise  Verified Purchase    5.0   \n",
       "80140  Miranda Jackson-Boone  Verified Purchase    5.0   \n",
       "\n",
       "                                review  \\\n",
       "0           Died in 2 days. Do not buy   \n",
       "1                Essentially worthless   \n",
       "2                          Great sound   \n",
       "3                           Poor sound   \n",
       "4                          Work Great!   \n",
       "...                                ...   \n",
       "80136              Just what I needed!   \n",
       "80137        Good quality great sound.   \n",
       "80138  Love the bass of this headphone   \n",
       "80139                        Love them   \n",
       "80140                      Love, Love!   \n",
       "\n",
       "                                                  detail  \n",
       "0       within   days the right ear bud stopped worki...  \n",
       "1       i ordered these and another pair from  more  ...  \n",
       "2       these little buds pick up music greatly   i c...  \n",
       "3       i don t know that    is worth returning  but ...  \n",
       "4       what can you say  they re headphones  work we...  \n",
       "...                                                  ...  \n",
       "80136   i like these a lot  i ve never managed to fin...  \n",
       "80137   i had the black ones and now i m ordering the...  \n",
       "80138   i was a bit hesitant at first  i didn t know ...  \n",
       "80139   best sound for value  i ve had no issues with...  \n",
       "80140   i spent a long time trying to find a good set...  \n",
       "\n",
       "[80141 rows x 7 columns]"
      ]
     },
     "execution_count": 9,
     "metadata": {},
     "output_type": "execute_result"
    }
   ],
   "source": [
    "df1"
   ]
  },
  {
   "cell_type": "code",
   "execution_count": 10,
   "metadata": {},
   "outputs": [],
   "source": [
    "import spacy \n",
    "from itertools import combinations \n",
    " \n",
    "# Set globals \n",
    "nlp = spacy.load(\"en_core_web_md\") \n",
    " \n",
    "def pre_process(titles): \n",
    "    \"\"\" \n",
    "    Pre-processes titles by removing stopwords and lemmatizing text. \n",
    "    :param titles: list of strings, contains target titles,. \n",
    "    :return: preprocessed_title_docs, list containing pre-processed titles. \n",
    "    \"\"\" \n",
    "     \n",
    "    # Preprocess all the titles \n",
    "    title_docs = [nlp(x) for x in titles] \n",
    "    preprocessed_title_docs = [] \n",
    "    lemmatized_tokens = [] \n",
    "    for title_doc in title_docs: \n",
    "        for token in title_doc: \n",
    "            if not token.is_stop: \n",
    "                lemmatized_tokens.append(token.lemma_) \n",
    "        preprocessed_title_docs.append(\" \".join(lemmatized_tokens)) \n",
    "        del lemmatized_tokens[ \n",
    "            : \n",
    "            ]  # empty the lemmatized tokens list as the code moves onto a new title \n",
    " \n",
    "    return preprocessed_title_docs \n",
    "\n",
    "def similarity_filter(titles): \n",
    "    \"\"\" \n",
    "    Recursively check if titles pass a similarity filter. \n",
    "    :param titles: list of strings, contains titles. \n",
    "    If the function finds titles that fail the similarity test, the above param will be the function output. \n",
    "    :return: this method upon itself unless there are no similar titles; in that case the feed that was passed \n",
    "    in is returned. \n",
    "    \"\"\" \n",
    " \n",
    "    # Preprocess titles \n",
    "    preprocessed_title_docs = pre_process(titles) \n",
    " \n",
    "    # Remove similar titles \n",
    "    all_summary_pairs = list(combinations(preprocessed_title_docs, 2)) \n",
    "    similar_titles = [] \n",
    "    for pair in all_summary_pairs: \n",
    "        title1 = nlp(pair[0]) \n",
    "        title2 = nlp(pair[1]) \n",
    "        similarity = title1.similarity(title2) \n",
    "        if similarity > 0.98: \n",
    "            similar_titles.append(pair) \n",
    "\n",
    "    titles_to_remove = [] \n",
    "    for a_title in similar_titles: \n",
    "        # Get the index of the first title in the pair \n",
    "        index_for_removal = preprocessed_title_docs.index(a_title[0]) \n",
    "        titles_to_remove.append(index_for_removal) \n",
    " \n",
    "    # Get indices of similar titles and remove them \n",
    "    similar_title_counts = set(titles_to_remove) \n",
    "    similar_titles = [ \n",
    "        x[1] for x in enumerate(titles) if x[0] in similar_title_counts \n",
    "    ] \n",
    "    # Exit the recursion if there are no longer any similar titles \n",
    "    if len(similar_title_counts) == 0: \n",
    "        return titles \n",
    " \n",
    "    # Continue the recursion if there are still titles to remove \n",
    "    else: \n",
    "        # Remove similar titles from the next input \n",
    "        for title in similar_titles: \n",
    "            idx = titles.index(title) \n",
    "            titles.pop(idx) \n",
    " \n",
    "        return similarity_filter(titles) \n",
    " \n",
    "your_title_list = list(df1[\"detail\"])\n",
    "titless = similarity_filter(your_title_list)"
   ]
  },
  {
   "cell_type": "code",
   "execution_count": 11,
   "metadata": {},
   "outputs": [],
   "source": [
    "df1.loc[(df1['point'] == 1.0) | (df1['point'] == 2.0)|(df1['point'] == 3.0), 'senti'] = 'neg'\n",
    "df1.loc[(df1['point'] == 4.0) | (df1['point'] == 5.0), 'senti'] = 'pos'"
   ]
  },
  {
   "cell_type": "code",
   "execution_count": 12,
   "metadata": {},
   "outputs": [],
   "source": [
    "from sklearn.model_selection import train_test_split\n",
    "X_train, X_test, y_train, y_test = train_test_split(df1[\"detail\"], df1[\"senti\"], test_size=0.2, random_state=123)"
   ]
  },
  {
   "cell_type": "code",
   "execution_count": 13,
   "metadata": {},
   "outputs": [
    {
     "name": "stdout",
     "output_type": "stream",
     "text": [
      "27452\n",
      "0.9922112969636498\n"
     ]
    }
   ],
   "source": [
    "from collections import Counter\n",
    " \n",
    "counter = Counter([words for reviews in X_train for words in reviews.split()])\n",
    "df = pd.DataFrame()\n",
    "df['key'] = counter.keys()\n",
    "df['value'] = counter.values()\n",
    "df.sort_values(by='value', ascending=False, inplace=True)\n",
    " \n",
    "print (df.shape[0])\n",
    "print (df[:10000].value.sum()/df.value.sum())\n",
    "top_10k_words = list(df[:10000].key.values)"
   ]
  },
  {
   "cell_type": "code",
   "execution_count": 14,
   "metadata": {},
   "outputs": [
    {
     "name": "stdout",
     "output_type": "stream",
     "text": [
      "(64112, 500) (16029, 500)\n"
     ]
    }
   ],
   "source": [
    "import numpy as np\n",
    "\n",
    "def get_encoded_input(review):\n",
    "    words = review.split()\n",
    "    if len(words) > 500:\n",
    "        words = words[:500]\n",
    "    encoding = []\n",
    "    for word in words:\n",
    "        try:\n",
    "            index = top_10k_words.index(word)\n",
    "        except:\n",
    "            index = 10000\n",
    "        encoding.append(index)\n",
    "    while len(encoding) < 500:\n",
    "        encoding.append(10001)\n",
    "    return encoding\n",
    " \n",
    "training_data = np.array([get_encoded_input(review) for review in X_train])\n",
    "testing_data = np.array([get_encoded_input(review) for review in X_test])\n",
    "print (training_data.shape, testing_data.shape)"
   ]
  },
  {
   "cell_type": "code",
   "execution_count": 15,
   "metadata": {},
   "outputs": [],
   "source": [
    "train_labels = [1 if sentiment=='pos' else 0 for sentiment in y_train]\n",
    "test_labels = [1 if sentiment=='pos' else 0 for sentiment in y_test]\n",
    "train_labels = np.array(train_labels)\n",
    "test_labels = np.array(test_labels)"
   ]
  },
  {
   "cell_type": "markdown",
   "metadata": {},
   "source": [
    "## Multi-layer Perceptron (Dense Neural Network) model"
   ]
  },
  {
   "cell_type": "code",
   "execution_count": 76,
   "metadata": {},
   "outputs": [
    {
     "name": "stdout",
     "output_type": "stream",
     "text": [
      "Model: \"model_5\"\n",
      "_________________________________________________________________\n",
      " Layer (type)                Output Shape              Param #   \n",
      "=================================================================\n",
      " input_6 (InputLayer)        [(None, 500)]             0         \n",
      "                                                                 \n",
      " embedding_15 (Embedding)    (None, 500, 32)           320064    \n",
      "                                                                 \n",
      " flatten_5 (Flatten)         (None, 16000)             0         \n",
      "                                                                 \n",
      " dense_30 (Dense)            (None, 16)                256016    \n",
      "                                                                 \n",
      " activation_20 (Activation)  (None, 16)                0         \n",
      "                                                                 \n",
      " dropout_15 (Dropout)        (None, 16)                0         \n",
      "                                                                 \n",
      " dense_31 (Dense)            (None, 8)                 136       \n",
      "                                                                 \n",
      " activation_21 (Activation)  (None, 8)                 0         \n",
      "                                                                 \n",
      " dropout_16 (Dropout)        (None, 8)                 0         \n",
      "                                                                 \n",
      " dense_32 (Dense)            (None, 4)                 36        \n",
      "                                                                 \n",
      " activation_22 (Activation)  (None, 4)                 0         \n",
      "                                                                 \n",
      " dropout_17 (Dropout)        (None, 4)                 0         \n",
      "                                                                 \n",
      " dense_33 (Dense)            (None, 1)                 5         \n",
      "                                                                 \n",
      " activation_23 (Activation)  (None, 1)                 0         \n",
      "                                                                 \n",
      "=================================================================\n",
      "Total params: 576,257\n",
      "Trainable params: 576,257\n",
      "Non-trainable params: 0\n",
      "_________________________________________________________________\n"
     ]
    }
   ],
   "source": [
    "#Multi-layer Perceptron (Dense Neural Network) model\n",
    "import tensorflow\n",
    "from tensorflow.keras.layers import Activation\n",
    " \n",
    "input_data = tensorflow.keras.layers.Input(shape=(500))\n",
    " \n",
    "data = tensorflow.keras.layers.Embedding(input_dim=10002, output_dim=32, input_length=500)(input_data)\n",
    " \n",
    "data = tensorflow.keras.layers.Flatten()(data)\n",
    " \n",
    "data = tensorflow.keras.layers.Dense(16)(data)\n",
    "data = tensorflow.keras.layers.Activation('relu')(data)\n",
    "data = tensorflow.keras.layers.Dropout(0.5)(data)\n",
    " \n",
    "data = tensorflow.keras.layers.Dense(8)(data)\n",
    "data = tensorflow.keras.layers.Activation('relu')(data)\n",
    "data = tensorflow.keras.layers.Dropout(0.5)(data)\n",
    " \n",
    "data = tensorflow.keras.layers.Dense(4)(data)\n",
    "data = tensorflow.keras.layers.Activation('relu')(data)\n",
    "data = tensorflow.keras.layers.Dropout(0.5)(data)\n",
    " \n",
    "data = tensorflow.keras.layers.Dense(1)(data)\n",
    "output_data = tensorflow.keras.layers.Activation('sigmoid')(data)\n",
    " \n",
    "model = tensorflow.keras.models.Model(inputs=input_data, outputs=output_data)\n",
    " \n",
    "model.compile(loss='binary_crossentropy', optimizer='adam', metrics='accuracy')\n",
    "model.summary()"
   ]
  },
  {
   "cell_type": "code",
   "execution_count": 77,
   "metadata": {},
   "outputs": [
    {
     "name": "stdout",
     "output_type": "stream",
     "text": [
      "Epoch 1/10\n"
     ]
    },
    {
     "name": "stderr",
     "output_type": "stream",
     "text": [
      "2022-11-27 20:10:43.462169: I tensorflow/core/grappler/optimizers/custom_graph_optimizer_registry.cc:113] Plugin optimizer for device_type GPU is enabled.\n"
     ]
    },
    {
     "name": "stdout",
     "output_type": "stream",
     "text": [
      "251/251 [==============================] - ETA: 0s - loss: 0.6176 - accuracy: 0.7158"
     ]
    },
    {
     "name": "stderr",
     "output_type": "stream",
     "text": [
      "2022-11-27 20:12:48.102782: I tensorflow/core/grappler/optimizers/custom_graph_optimizer_registry.cc:113] Plugin optimizer for device_type GPU is enabled.\n"
     ]
    },
    {
     "name": "stdout",
     "output_type": "stream",
     "text": [
      "251/251 [==============================] - 125s 488ms/step - loss: 0.6176 - accuracy: 0.7158 - val_loss: 0.4205 - val_accuracy: 0.8628\n",
      "Epoch 2/10\n",
      "251/251 [==============================] - 6s 26ms/step - loss: 0.6152 - accuracy: 0.7159 - val_loss: 0.6024 - val_accuracy: 0.7141\n",
      "Epoch 3/10\n",
      "251/251 [==============================] - 6s 25ms/step - loss: 0.6079 - accuracy: 0.7156 - val_loss: 0.6001 - val_accuracy: 0.7141\n",
      "Epoch 4/10\n",
      "251/251 [==============================] - 6s 23ms/step - loss: 0.6045 - accuracy: 0.7156 - val_loss: 0.5998 - val_accuracy: 0.7141\n",
      "Epoch 5/10\n",
      "251/251 [==============================] - 6s 23ms/step - loss: 0.6014 - accuracy: 0.7156 - val_loss: 0.5989 - val_accuracy: 0.7141\n",
      "Epoch 6/10\n",
      "251/251 [==============================] - 6s 23ms/step - loss: 0.5995 - accuracy: 0.7156 - val_loss: 0.5986 - val_accuracy: 0.7141\n",
      "Epoch 7/10\n",
      "251/251 [==============================] - 6s 23ms/step - loss: 0.5987 - accuracy: 0.7156 - val_loss: 0.5987 - val_accuracy: 0.7141\n",
      "Epoch 8/10\n",
      "251/251 [==============================] - 6s 23ms/step - loss: 0.5978 - accuracy: 0.7156 - val_loss: 0.5985 - val_accuracy: 0.7141\n",
      "Epoch 9/10\n",
      "251/251 [==============================] - 6s 24ms/step - loss: 0.5975 - accuracy: 0.7156 - val_loss: 0.5985 - val_accuracy: 0.7141\n",
      "Epoch 10/10\n",
      "251/251 [==============================] - 6s 23ms/step - loss: 0.5974 - accuracy: 0.7156 - val_loss: 0.5985 - val_accuracy: 0.7141\n"
     ]
    },
    {
     "data": {
      "text/plain": [
       "<keras.callbacks.History at 0x30375adf0>"
      ]
     },
     "execution_count": 77,
     "metadata": {},
     "output_type": "execute_result"
    }
   ],
   "source": [
    "model.fit(training_data, train_labels, epochs=10, batch_size=256, validation_data=(testing_data, test_labels))"
   ]
  },
  {
   "cell_type": "code",
   "execution_count": 50,
   "metadata": {},
   "outputs": [
    {
     "data": {
      "image/png": "[encoded data removed]",
      "text/plain": [
       "<Figure size 640x480 with 1 Axes>"
      ]
     },
     "metadata": {},
     "output_type": "display_data"
    }
   ],
   "source": [
    "\n",
    "dnn_loss = [0.6176,0.6152,0.6079,0.6045,0.6014,0.5995,0.5987,0.5978,0.5975,0.5974]\n",
    "dnn_val_loss = [0.4205,0.6024,0.6001,0.5998,0.5989,0.5986,0.5987,0.5985,0.5985,0.5985]\n",
    "[0.7158,0.7159,0.7156,0.7156,0.7156,0.7156,0.7156,0.7156,0.7156,0.7156]\n",
    "[0.8628,0.7141,0.7141,0.7141,0.7141,0.7141,0.7141,0.7141,0.7141,0.7141]\n",
    "plt.plot(dnn_loss, label=\"$Loss$\")\n",
    "plt.plot(dnn_val_loss, label='$val_loss$')\n",
    "plt.title('DNN Loss',fontsize=18)\n",
    "plt.xlabel('epoch',fontsize=16)\n",
    "plt.ylabel('num',fontsize=16)\n",
    "plt.legend()\n",
    "plt.show()"
   ]
  },
  {
   "cell_type": "markdown",
   "metadata": {},
   "source": [
    "## RNN"
   ]
  },
  {
   "cell_type": "code",
   "execution_count": 13,
   "metadata": {},
   "outputs": [
    {
     "name": "stdout",
     "output_type": "stream",
     "text": [
      "Metal device set to: Apple M1 Pro\n",
      "\n",
      "systemMemory: 16.00 GB\n",
      "maxCacheSize: 5.33 GB\n",
      "\n",
      "Model: \"model\"\n",
      "_________________________________________________________________\n",
      " Layer (type)                Output Shape              Param #   \n",
      "=================================================================\n",
      " input_1 (InputLayer)        [(None, 500)]             0         \n",
      "                                                                 \n",
      " embedding (Embedding)       (None, 500, 32)           320064    \n",
      "                                                                 \n",
      " bidirectional (Bidirectiona  (None, 100)              8300      \n",
      " l)                                                              \n",
      "                                                                 \n",
      " dense (Dense)               (None, 1)                 101       \n",
      "                                                                 \n",
      " activation (Activation)     (None, 1)                 0         \n",
      "                                                                 \n",
      "=================================================================\n",
      "Total params: 328,465\n",
      "Trainable params: 328,465\n",
      "Non-trainable params: 0\n",
      "_________________________________________________________________\n"
     ]
    },
    {
     "name": "stderr",
     "output_type": "stream",
     "text": [
      "2022-11-27 20:26:03.516644: I tensorflow/core/common_runtime/pluggable_device/pluggable_device_factory.cc:305] Could not identify NUMA node of platform GPU ID 0, defaulting to 0. Your kernel may not have been built with NUMA support.\n",
      "2022-11-27 20:26:03.516747: I tensorflow/core/common_runtime/pluggable_device/pluggable_device_factory.cc:271] Created TensorFlow device (/job:localhost/replica:0/task:0/device:GPU:0 with 0 MB memory) -> physical PluggableDevice (device: 0, name: METAL, pci bus id: <undefined>)\n"
     ]
    }
   ],
   "source": [
    "# RNN\n",
    "import tensorflow\n",
    "from tensorflow.keras.layers import Activation\n",
    " \n",
    "input_data = tensorflow.keras.layers.Input(shape=(500))\n",
    " \n",
    "data = tensorflow.keras.layers.Embedding(input_dim=10002, output_dim=32, input_length=500)(input_data)\n",
    " \n",
    "data = tensorflow.keras.layers.Bidirectional(tensorflow.keras.layers.SimpleRNN(50))(data)\n",
    " \n",
    "data = tensorflow.keras.layers.Dense(1)(data)\n",
    "output_data = tensorflow.keras.layers.Activation('sigmoid')(data)\n",
    " \n",
    "model = tensorflow.keras.models.Model(inputs=input_data, outputs=output_data)\n",
    " \n",
    "model.compile(loss='binary_crossentropy', optimizer='adam', metrics='accuracy')\n",
    "model.summary()"
   ]
  },
  {
   "cell_type": "code",
   "execution_count": 14,
   "metadata": {},
   "outputs": [
    {
     "name": "stdout",
     "output_type": "stream",
     "text": [
      "Epoch 1/10\n"
     ]
    },
    {
     "name": "stderr",
     "output_type": "stream",
     "text": [
      "2022-11-27 20:26:16.194118: W tensorflow/core/platform/profile_utils/cpu_utils.cc:128] Failed to get CPU frequency: 0 Hz\n",
      "2022-11-27 20:26:16.846161: I tensorflow/core/grappler/optimizers/custom_graph_optimizer_registry.cc:113] Plugin optimizer for device_type GPU is enabled.\n"
     ]
    },
    {
     "name": "stdout",
     "output_type": "stream",
     "text": [
      " 27/251 [==>...........................] - ETA: 14:09:19 - loss: 0.5884 - accuracy: 0.7141"
     ]
    }
   ],
   "source": [
    "model.fit(training_data, train_labels, epochs=10, batch_size=256, validation_data=(testing_data, test_labels))"
   ]
  },
  {
   "cell_type": "markdown",
   "metadata": {},
   "source": [
    "## LSTM"
   ]
  },
  {
   "cell_type": "code",
   "execution_count": 16,
   "metadata": {},
   "outputs": [
    {
     "name": "stdout",
     "output_type": "stream",
     "text": [
      "Model: \"model_2\"\n",
      "_________________________________________________________________\n",
      " Layer (type)                Output Shape              Param #   \n",
      "=================================================================\n",
      " input_3 (InputLayer)        [(None, 500)]             0         \n",
      "                                                                 \n",
      " embedding_2 (Embedding)     (None, 500, 32)           320064    \n",
      "                                                                 \n",
      " lstm_1 (LSTM)               (None, 50)                16600     \n",
      "                                                                 \n",
      " dense_3 (Dense)             (None, 1)                 51        \n",
      "                                                                 \n",
      " activation_2 (Activation)   (None, 1)                 0         \n",
      "                                                                 \n",
      "=================================================================\n",
      "Total params: 336,715\n",
      "Trainable params: 336,715\n",
      "Non-trainable params: 0\n",
      "_________________________________________________________________\n"
     ]
    }
   ],
   "source": [
    "#LSTM (Long Short-Term Memory)\n",
    "import tensorflow\n",
    "from tensorflow.keras.layers import Activation\n",
    " \n",
    "input_data = tensorflow.keras.layers.Input(shape=(500))\n",
    " \n",
    "data = tensorflow.keras.layers.Embedding(input_dim=10002, output_dim=32, input_length=500)(input_data)\n",
    " \n",
    "data = tensorflow.keras.layers.LSTM(50)(data)\n",
    " \n",
    "data = tensorflow.keras.layers.Dense(1)(data)\n",
    "output_data = tensorflow.keras.layers.Activation('sigmoid')(data)\n",
    " \n",
    "model = tensorflow.keras.models.Model(inputs=input_data, outputs=output_data)\n",
    " \n",
    "model.compile(loss='binary_crossentropy', optimizer='adam', metrics='accuracy')\n",
    "model.summary()"
   ]
  },
  {
   "cell_type": "code",
   "execution_count": 17,
   "metadata": {},
   "outputs": [
    {
     "name": "stdout",
     "output_type": "stream",
     "text": [
      "Epoch 1/10\n"
     ]
    },
    {
     "name": "stderr",
     "output_type": "stream",
     "text": [
      "2022-11-27 23:15:00.476964: I tensorflow/core/grappler/optimizers/custom_graph_optimizer_registry.cc:113] Plugin optimizer for device_type GPU is enabled.\n",
      "2022-11-27 23:15:00.790509: I tensorflow/core/grappler/optimizers/custom_graph_optimizer_registry.cc:113] Plugin optimizer for device_type GPU is enabled.\n",
      "2022-11-27 23:15:02.303286: I tensorflow/core/grappler/optimizers/custom_graph_optimizer_registry.cc:113] Plugin optimizer for device_type GPU is enabled.\n"
     ]
    },
    {
     "name": "stdout",
     "output_type": "stream",
     "text": [
      "501/501 [==============================] - ETA: 0s - loss: 0.6009 - accuracy: 0.7149"
     ]
    },
    {
     "name": "stderr",
     "output_type": "stream",
     "text": [
      "2022-11-27 23:16:59.561082: I tensorflow/core/grappler/optimizers/custom_graph_optimizer_registry.cc:113] Plugin optimizer for device_type GPU is enabled.\n",
      "2022-11-27 23:16:59.673897: I tensorflow/core/grappler/optimizers/custom_graph_optimizer_registry.cc:113] Plugin optimizer for device_type GPU is enabled.\n"
     ]
    },
    {
     "name": "stdout",
     "output_type": "stream",
     "text": [
      "501/501 [==============================] - 132s 251ms/step - loss: 0.6009 - accuracy: 0.7149 - val_loss: 0.5989 - val_accuracy: 0.7141\n",
      "Epoch 2/10\n",
      "501/501 [==============================] - 116s 231ms/step - loss: 0.5973 - accuracy: 0.7156 - val_loss: 0.5989 - val_accuracy: 0.7141\n",
      "Epoch 3/10\n",
      "501/501 [==============================] - 117s 234ms/step - loss: 0.5972 - accuracy: 0.7156 - val_loss: 0.5999 - val_accuracy: 0.7141\n",
      "Epoch 4/10\n",
      "501/501 [==============================] - 119s 237ms/step - loss: 0.5970 - accuracy: 0.7158 - val_loss: 0.6000 - val_accuracy: 0.7141\n",
      "Epoch 5/10\n",
      "501/501 [==============================] - 123s 245ms/step - loss: 0.5968 - accuracy: 0.7159 - val_loss: 0.5985 - val_accuracy: 0.7141\n",
      "Epoch 6/10\n",
      "501/501 [==============================] - 135s 269ms/step - loss: 0.5967 - accuracy: 0.7162 - val_loss: 0.5985 - val_accuracy: 0.7139\n",
      "Epoch 7/10\n",
      "501/501 [==============================] - 135s 270ms/step - loss: 0.5979 - accuracy: 0.7162 - val_loss: 0.5989 - val_accuracy: 0.7140\n",
      "Epoch 8/10\n",
      "501/501 [==============================] - 135s 269ms/step - loss: 0.5970 - accuracy: 0.7162 - val_loss: 0.5987 - val_accuracy: 0.7140\n",
      "Epoch 9/10\n",
      "501/501 [==============================] - 139s 277ms/step - loss: 0.5968 - accuracy: 0.7163 - val_loss: 0.5987 - val_accuracy: 0.7140\n",
      "Epoch 10/10\n",
      "501/501 [==============================] - 145s 290ms/step - loss: 0.5965 - accuracy: 0.7163 - val_loss: 0.6001 - val_accuracy: 0.7137\n"
     ]
    },
    {
     "data": {
      "text/plain": [
       "<keras.callbacks.History at 0x2867c8370>"
      ]
     },
     "execution_count": 17,
     "metadata": {},
     "output_type": "execute_result"
    }
   ],
   "source": [
    "model.fit(training_data, train_labels, epochs=10, batch_size=128, validation_data=(testing_data, test_labels))"
   ]
  },
  {
   "cell_type": "code",
   "execution_count": 51,
   "metadata": {},
   "outputs": [
    {
     "data": {
      "image/png": "[encoded data removed]",
      "text/plain": [
       "<Figure size 640x480 with 1 Axes>"
      ]
     },
     "metadata": {},
     "output_type": "display_data"
    }
   ],
   "source": [
    "lstm_loss = [0.6009,0.5973,0.5972,0.5970,0.5968,0.5967,0.5979,0.5970,0.5968,0.5965]\n",
    "lstm_val_loss = [0.5989,0.5989,0.5999,0.6000,0.5985,0.5985,0.5989,0.5987,0.5987,0.6001]\n",
    "[0.7149,0.7156,0.7156,0.7158,0.7159,0.7162,0.7162,0.7162,0.7163,0.7163]\n",
    "[0.7141,0.7141,0.7141,0.7141,0.7141,0.7139,0.7140,0.7140,0.7140,0.7137]\n",
    "plt.plot(lstm_loss, label=\"$Loss$\")\n",
    "plt.plot(lstm_val_loss, label='$val_loss$')\n",
    "plt.title('LSTM Loss',fontsize=18)\n",
    "plt.xlabel('epoch',fontsize=16)\n",
    "plt.ylabel('num',fontsize=16)\n",
    "plt.legend()\n",
    "plt.show()"
   ]
  },
  {
   "cell_type": "markdown",
   "metadata": {},
   "source": [
    "## BiLSTM"
   ]
  },
  {
   "cell_type": "code",
   "execution_count": 12,
   "metadata": {},
   "outputs": [
    {
     "name": "stdout",
     "output_type": "stream",
     "text": [
      "Metal device set to: Apple M1 Pro\n",
      "\n",
      "systemMemory: 16.00 GB\n",
      "maxCacheSize: 5.33 GB\n",
      "\n"
     ]
    },
    {
     "name": "stderr",
     "output_type": "stream",
     "text": [
      "2022-11-27 22:13:18.809711: I tensorflow/core/common_runtime/pluggable_device/pluggable_device_factory.cc:305] Could not identify NUMA node of platform GPU ID 0, defaulting to 0. Your kernel may not have been built with NUMA support.\n",
      "2022-11-27 22:13:18.809952: I tensorflow/core/common_runtime/pluggable_device/pluggable_device_factory.cc:271] Created TensorFlow device (/job:localhost/replica:0/task:0/device:GPU:0 with 0 MB memory) -> physical PluggableDevice (device: 0, name: METAL, pci bus id: <undefined>)\n"
     ]
    },
    {
     "name": "stdout",
     "output_type": "stream",
     "text": [
      "Model: \"model\"\n",
      "_________________________________________________________________\n",
      " Layer (type)                Output Shape              Param #   \n",
      "=================================================================\n",
      " input_1 (InputLayer)        [(None, 500)]             0         \n",
      "                                                                 \n",
      " embedding (Embedding)       (None, 500, 32)           320064    \n",
      "                                                                 \n",
      " bidirectional (Bidirectiona  (None, 100)              33200     \n",
      " l)                                                              \n",
      "                                                                 \n",
      " dense (Dense)               (None, 1)                 101       \n",
      "                                                                 \n",
      " activation (Activation)     (None, 1)                 0         \n",
      "                                                                 \n",
      "=================================================================\n",
      "Total params: 353,365\n",
      "Trainable params: 353,365\n",
      "Non-trainable params: 0\n",
      "_________________________________________________________________\n"
     ]
    }
   ],
   "source": [
    "#BiLSTM (Bidirectional Long Short-Term Memory)\n",
    "import tensorflow\n",
    "from tensorflow.keras.layers import Activation\n",
    " \n",
    "input_data = tensorflow.keras.layers.Input(shape=(500))\n",
    " \n",
    "data = tensorflow.keras.layers.Embedding(input_dim=10002, output_dim=32, input_length=500)(input_data)\n",
    " \n",
    "data = tensorflow.keras.layers.Bidirectional(tensorflow.keras.layers.LSTM(50))(data)\n",
    " \n",
    "data = tensorflow.keras.layers.Dense(1)(data)\n",
    "output_data = tensorflow.keras.layers.Activation('sigmoid')(data)\n",
    " \n",
    "model = tensorflow.keras.models.Model(inputs=input_data, outputs=output_data)\n",
    " \n",
    "model.compile(loss='binary_crossentropy', optimizer='adam', metrics='accuracy')\n",
    "model.summary()"
   ]
  },
  {
   "cell_type": "code",
   "execution_count": 13,
   "metadata": {},
   "outputs": [
    {
     "name": "stdout",
     "output_type": "stream",
     "text": [
      "Epoch 1/10\n"
     ]
    },
    {
     "name": "stderr",
     "output_type": "stream",
     "text": [
      "2022-11-27 22:13:20.855450: W tensorflow/core/platform/profile_utils/cpu_utils.cc:128] Failed to get CPU frequency: 0 Hz\n",
      "2022-11-27 22:13:22.395097: I tensorflow/core/grappler/optimizers/custom_graph_optimizer_registry.cc:113] Plugin optimizer for device_type GPU is enabled.\n",
      "2022-11-27 22:13:22.922897: I tensorflow/core/grappler/optimizers/custom_graph_optimizer_registry.cc:113] Plugin optimizer for device_type GPU is enabled.\n",
      "2022-11-27 22:13:22.957910: I tensorflow/core/grappler/optimizers/custom_graph_optimizer_registry.cc:113] Plugin optimizer for device_type GPU is enabled.\n",
      "2022-11-27 22:13:26.996994: I tensorflow/core/grappler/optimizers/custom_graph_optimizer_registry.cc:113] Plugin optimizer for device_type GPU is enabled.\n",
      "2022-11-27 22:13:27.021222: I tensorflow/core/grappler/optimizers/custom_graph_optimizer_registry.cc:113] Plugin optimizer for device_type GPU is enabled.\n"
     ]
    },
    {
     "name": "stdout",
     "output_type": "stream",
     "text": [
      "501/501 [==============================] - ETA: 0s - loss: 0.3745 - accuracy: 0.8280"
     ]
    },
    {
     "name": "stderr",
     "output_type": "stream",
     "text": [
      "2022-11-27 22:17:18.456974: I tensorflow/core/grappler/optimizers/custom_graph_optimizer_registry.cc:113] Plugin optimizer for device_type GPU is enabled.\n",
      "2022-11-27 22:17:18.595206: I tensorflow/core/grappler/optimizers/custom_graph_optimizer_registry.cc:113] Plugin optimizer for device_type GPU is enabled.\n",
      "2022-11-27 22:17:18.608112: I tensorflow/core/grappler/optimizers/custom_graph_optimizer_registry.cc:113] Plugin optimizer for device_type GPU is enabled.\n"
     ]
    },
    {
     "name": "stdout",
     "output_type": "stream",
     "text": [
      "501/501 [==============================] - 260s 498ms/step - loss: 0.3745 - accuracy: 0.8280 - val_loss: 0.2818 - val_accuracy: 0.8846\n",
      "Epoch 2/10\n",
      "501/501 [==============================] - 220s 440ms/step - loss: 0.2520 - accuracy: 0.8996 - val_loss: 0.2679 - val_accuracy: 0.8917\n",
      "Epoch 3/10\n",
      "501/501 [==============================] - 208s 415ms/step - loss: 0.2208 - accuracy: 0.9132 - val_loss: 0.2646 - val_accuracy: 0.8969\n",
      "Epoch 4/10\n",
      "501/501 [==============================] - 210s 419ms/step - loss: 0.2098 - accuracy: 0.9180 - val_loss: 0.2702 - val_accuracy: 0.8949\n",
      "Epoch 5/10\n",
      "501/501 [==============================] - 199s 398ms/step - loss: 0.1899 - accuracy: 0.9268 - val_loss: 0.2671 - val_accuracy: 0.9000\n",
      "Epoch 6/10\n",
      "501/501 [==============================] - 199s 397ms/step - loss: 0.1737 - accuracy: 0.9330 - val_loss: 0.2748 - val_accuracy: 0.8986\n",
      "Epoch 7/10\n",
      "501/501 [==============================] - 202s 404ms/step - loss: 0.1647 - accuracy: 0.9369 - val_loss: 0.2723 - val_accuracy: 0.8988\n",
      "Epoch 8/10\n",
      "501/501 [==============================] - 199s 397ms/step - loss: 0.1578 - accuracy: 0.9409 - val_loss: 0.2885 - val_accuracy: 0.8979\n",
      "Epoch 9/10\n",
      "501/501 [==============================] - 198s 395ms/step - loss: 0.1718 - accuracy: 0.9367 - val_loss: 0.2903 - val_accuracy: 0.8991\n",
      "Epoch 10/10\n",
      "501/501 [==============================] - 195s 389ms/step - loss: 0.1368 - accuracy: 0.9501 - val_loss: 0.2970 - val_accuracy: 0.8997\n"
     ]
    },
    {
     "data": {
      "text/plain": [
       "<keras.callbacks.History at 0x28bfecf40>"
      ]
     },
     "execution_count": 13,
     "metadata": {},
     "output_type": "execute_result"
    }
   ],
   "source": [
    "model.fit(training_data, train_labels, epochs=10, batch_size=128, validation_data=(testing_data, test_labels))"
   ]
  },
  {
   "cell_type": "code",
   "execution_count": 49,
   "metadata": {},
   "outputs": [
    {
     "data": {
      "image/png": "[encoded data removed]",
      "text/plain": [
       "<Figure size 640x480 with 1 Axes>"
      ]
     },
     "metadata": {},
     "output_type": "display_data"
    }
   ],
   "source": [
    "bi_loss = [0.3745,0.2520,0.2208,0.2098,0.1899,0.1737,0.1647,0.1578,0.1718,0.1368]\n",
    "bi_val_loss = [0.2818,0.2679,0.2646,0.2702,0.2671,0.2748,0.2723,0.2885,0.2903,0.2970]\n",
    "[0.8280,0.8996,0.9132,0.9180,0.9268,0.9330,0.9369,0.9409,0.9367,0.9501]\n",
    "[0.8846,0.8917,0.8969,0.8949,0.9000,0.8986,0.8988,0.8979,0.8991,0.8997]\n",
    "plt.plot(bi_loss, label=\"$Loss$\")\n",
    "plt.plot(bi_val_loss, label='$val_loss$')\n",
    "plt.title('BiLSTM Loss',fontsize=18)\n",
    "plt.xlabel('epoch',fontsize=16)\n",
    "plt.ylabel('num',fontsize=16)\n",
    "plt.legend()\n",
    "plt.show()"
   ]
  },
  {
   "cell_type": "markdown",
   "metadata": {},
   "source": [
    "## 1D CNN"
   ]
  },
  {
   "cell_type": "code",
   "execution_count": 14,
   "metadata": {},
   "outputs": [
    {
     "name": "stdout",
     "output_type": "stream",
     "text": [
      "Model: \"model_1\"\n",
      "_________________________________________________________________\n",
      " Layer (type)                Output Shape              Param #   \n",
      "=================================================================\n",
      " input_2 (InputLayer)        [(None, 500)]             0         \n",
      "                                                                 \n",
      " embedding_1 (Embedding)     (None, 500, 32)           320064    \n",
      "                                                                 \n",
      " conv1d (Conv1D)             (None, 498, 50)           4850      \n",
      "                                                                 \n",
      " max_pooling1d (MaxPooling1D  (None, 249, 50)          0         \n",
      " )                                                               \n",
      "                                                                 \n",
      " conv1d_1 (Conv1D)           (None, 247, 40)           6040      \n",
      "                                                                 \n",
      " max_pooling1d_1 (MaxPooling  (None, 123, 40)          0         \n",
      " 1D)                                                             \n",
      "                                                                 \n",
      " conv1d_2 (Conv1D)           (None, 121, 30)           3630      \n",
      "                                                                 \n",
      " max_pooling1d_2 (MaxPooling  (None, 60, 30)           0         \n",
      " 1D)                                                             \n",
      "                                                                 \n",
      " conv1d_3 (Conv1D)           (None, 58, 30)            2730      \n",
      "                                                                 \n",
      " max_pooling1d_3 (MaxPooling  (None, 29, 30)           0         \n",
      " 1D)                                                             \n",
      "                                                                 \n",
      " flatten (Flatten)           (None, 870)               0         \n",
      "                                                                 \n",
      " dense_1 (Dense)             (None, 20)                17420     \n",
      "                                                                 \n",
      " dropout (Dropout)           (None, 20)                0         \n",
      "                                                                 \n",
      " dense_2 (Dense)             (None, 1)                 21        \n",
      "                                                                 \n",
      " activation_1 (Activation)   (None, 1)                 0         \n",
      "                                                                 \n",
      "=================================================================\n",
      "Total params: 354,755\n",
      "Trainable params: 354,755\n",
      "Non-trainable params: 0\n",
      "_________________________________________________________________\n"
     ]
    }
   ],
   "source": [
    "#1D CNN (Convolutional Neural Network)\n",
    "import tensorflow\n",
    " \n",
    "input_data = tensorflow.keras.layers.Input(shape=(500))\n",
    " \n",
    "data = tensorflow.keras.layers.Embedding(input_dim=10002, output_dim=32, input_length=500)(input_data)\n",
    " \n",
    "data = tensorflow.keras.layers.Conv1D(50, kernel_size=3, activation='relu')(data)\n",
    "data = tensorflow.keras.layers.MaxPool1D(pool_size=2)(data)\n",
    " \n",
    "data = tensorflow.keras.layers.Conv1D(40, kernel_size=3, activation='relu')(data)\n",
    "data = tensorflow.keras.layers.MaxPool1D(pool_size=2)(data)\n",
    " \n",
    "data = tensorflow.keras.layers.Conv1D(30, kernel_size=3, activation='relu')(data)\n",
    "data = tensorflow.keras.layers.MaxPool1D(pool_size=2)(data)\n",
    " \n",
    "data = tensorflow.keras.layers.Conv1D(30, kernel_size=3, activation='relu')(data)\n",
    "data = tensorflow.keras.layers.MaxPool1D(pool_size=2)(data)\n",
    " \n",
    "data = tensorflow.keras.layers.Flatten()(data)\n",
    " \n",
    "data = tensorflow.keras.layers.Dense(20)(data)\n",
    "data = tensorflow.keras.layers.Dropout(0.5)(data)\n",
    " \n",
    "data = tensorflow.keras.layers.Dense(1)(data)\n",
    "output_data = tensorflow.keras.layers.Activation('sigmoid')(data)\n",
    " \n",
    "model = tensorflow.keras.models.Model(inputs=input_data, outputs=output_data)\n",
    " \n",
    "model.compile(loss='binary_crossentropy', optimizer='adam', metrics='accuracy')\n",
    "model.summary()"
   ]
  },
  {
   "cell_type": "code",
   "execution_count": 15,
   "metadata": {},
   "outputs": [
    {
     "name": "stdout",
     "output_type": "stream",
     "text": [
      "Epoch 1/10\n"
     ]
    },
    {
     "name": "stderr",
     "output_type": "stream",
     "text": [
      "2022-11-27 22:48:30.924685: I tensorflow/core/grappler/optimizers/custom_graph_optimizer_registry.cc:113] Plugin optimizer for device_type GPU is enabled.\n"
     ]
    },
    {
     "name": "stdout",
     "output_type": "stream",
     "text": [
      "251/251 [==============================] - ETA: 0s - loss: 0.4596 - accuracy: 0.7921"
     ]
    },
    {
     "name": "stderr",
     "output_type": "stream",
     "text": [
      "2022-11-27 22:52:10.876366: I tensorflow/core/grappler/optimizers/custom_graph_optimizer_registry.cc:113] Plugin optimizer for device_type GPU is enabled.\n"
     ]
    },
    {
     "name": "stdout",
     "output_type": "stream",
     "text": [
      "251/251 [==============================] - 221s 871ms/step - loss: 0.4596 - accuracy: 0.7921 - val_loss: 0.6145 - val_accuracy: 0.7141\n",
      "Epoch 2/10\n",
      "251/251 [==============================] - 9s 38ms/step - loss: 0.6015 - accuracy: 0.7156 - val_loss: 0.5985 - val_accuracy: 0.7141\n",
      "Epoch 3/10\n",
      "251/251 [==============================] - 9s 36ms/step - loss: 0.6005 - accuracy: 0.7156 - val_loss: 0.5985 - val_accuracy: 0.7141\n",
      "Epoch 4/10\n",
      "251/251 [==============================] - 9s 36ms/step - loss: 0.6000 - accuracy: 0.7156 - val_loss: 0.5988 - val_accuracy: 0.7141\n",
      "Epoch 5/10\n",
      "251/251 [==============================] - 9s 35ms/step - loss: 0.6000 - accuracy: 0.7156 - val_loss: 0.6014 - val_accuracy: 0.7141\n",
      "Epoch 6/10\n",
      "251/251 [==============================] - 9s 36ms/step - loss: 0.5993 - accuracy: 0.7156 - val_loss: 0.5988 - val_accuracy: 0.7141\n",
      "Epoch 7/10\n",
      "251/251 [==============================] - 9s 36ms/step - loss: 0.5990 - accuracy: 0.7156 - val_loss: 0.5989 - val_accuracy: 0.7141\n",
      "Epoch 8/10\n",
      "251/251 [==============================] - 9s 36ms/step - loss: 0.5986 - accuracy: 0.7156 - val_loss: 0.5990 - val_accuracy: 0.7141\n",
      "Epoch 9/10\n",
      "251/251 [==============================] - 9s 35ms/step - loss: 0.5987 - accuracy: 0.7156 - val_loss: 0.5985 - val_accuracy: 0.7141\n",
      "Epoch 10/10\n",
      "251/251 [==============================] - 9s 35ms/step - loss: 0.5979 - accuracy: 0.7156 - val_loss: 0.5986 - val_accuracy: 0.7141\n"
     ]
    },
    {
     "data": {
      "text/plain": [
       "<keras.callbacks.History at 0x28c73e9a0>"
      ]
     },
     "execution_count": 15,
     "metadata": {},
     "output_type": "execute_result"
    }
   ],
   "source": [
    "model.fit(training_data, train_labels, epochs=10, batch_size=256, validation_data=(testing_data, test_labels))\n"
   ]
  },
  {
   "cell_type": "code",
   "execution_count": 46,
   "metadata": {},
   "outputs": [
    {
     "data": {
      "image/png": "[encoded data removed]",
      "text/plain": [
       "<Figure size 640x480 with 1 Axes>"
      ]
     },
     "metadata": {},
     "output_type": "display_data"
    }
   ],
   "source": [
    "import matplotlib.pyplot as plt\n",
    "cnn_loss = [0.4596,0.6015,0.6005,0.6000,0.6000,0.5993,0.5990,0.5986,0.5987,0.5979]\n",
    "cnn_val_loss = [0.6145,0.5985,0.5985,0.5988,0.6014,0.5988,0.5989,0.5990,0.5985,0.5986]\n",
    "[0.7921,0.7156,0.7156,0.7156,0.7156,0.7156,0.7156,0.7156,0.7156,0.7156]\n",
    "[0.7141,0.7141,0.7141,0.7141,0.7141,0.7141,0.7141,0.7141,0.7141,0.7141]\n",
    "plt.plot(cnn_loss, label=\"$Loss$\")\n",
    "plt.plot(cnn_val_loss, label='$val_loss$')\n",
    "plt.title('CNN Loss',fontsize=18)\n",
    "plt.xlabel('epoch',fontsize=18)\n",
    "plt.ylabel('num',fontsize=18)\n",
    "plt.legend()\n",
    "plt.show()\n",
    "\n"
   ]
  },
  {
   "cell_type": "code",
   "execution_count": null,
   "metadata": {},
   "outputs": [],
   "source": []
  }
 ],
 "metadata": {
  "kernelspec": {
   "display_name": "Python 3.9.13 ('anly-580')",
   "language": "python",
   "name": "python3"
  },
  "language_info": {
   "codemirror_mode": {
    "name": "ipython",
    "version": 3
   },
   "file_extension": ".py",
   "mimetype": "text/x-python",
   "name": "python",
   "nbconvert_exporter": "python",
   "pygments_lexer": "ipython3",
   "version": "3.9.13"
  },
  "orig_nbformat": 4,
  "vscode": {
   "interpreter": {
    "hash": "3d0ada940689966664a599c36d8febfe18e2fb1c92467e2eaf94397ed24c579d"
   }
  }
 },
 "nbformat": 4,
 "nbformat_minor": 2
}
