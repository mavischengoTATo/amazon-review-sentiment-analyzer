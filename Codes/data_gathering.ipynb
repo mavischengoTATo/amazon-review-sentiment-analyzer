{
 "cells": [
  {
   "cell_type": "markdown",
   "metadata": {},
   "source": [
    "## Package loading"
   ]
  },
  {
   "cell_type": "code",
   "execution_count": 144,
   "metadata": {},
   "outputs": [],
   "source": [
    "import requests\n",
    "from scrapy import Selector\n",
    "import pandas as pd\n",
    "from fake_useragent import UserAgent\n",
    "import numpy as np"
   ]
  },
  {
   "cell_type": "markdown",
   "metadata": {},
   "source": [
    "## Data gathering"
   ]
  },
  {
   "cell_type": "code",
   "execution_count": 148,
   "metadata": {},
   "outputs": [],
   "source": [
    "global asin\n",
    "asin = \"B00NJ2M43M\""
   ]
  },
  {
   "cell_type": "code",
   "execution_count": 10,
   "metadata": {},
   "outputs": [
    {
     "name": "stdout",
     "output_type": "stream",
     "text": [
      "Data Gathering Successful!\n"
     ]
    }
   ],
   "source": [
    "class getReview():\n",
    "    page = 1\n",
    "    ua = UserAgent()\n",
    "    headers = {\n",
    "        'authority': 'www.amazon.it',\n",
    "        \"accept\": \"text/html,application/xhtml+xml,application/xml;q=0.9,image/avif,image/webp,image/apng,*/*;q=0.8,application/signed-exchange;v=b3;q=0.9\",\n",
    "        \"user-agent\": ua.random\n",
    "    }\n",
    "    post_data = {\n",
    "        \"sortBy\": \"recent\",\n",
    "        \"reviewerType\": \"all_reviews\",\n",
    "        \"formatType\": \"\",\n",
    "        \"mediaType\": \"\",\n",
    "        \"filterByStar\": \"\",\n",
    "        \"filterByLanguage\": \"\",\n",
    "        \"filterByKeyword\": \"\",\n",
    "        \"shouldAppend\": \"undefined\",\n",
    "        \"deviceType\": \"desktop\",\n",
    "        \"canShowIntHeader\": \"undefined\",\n",
    "        \"pageSize\": \"10\",\n",
    "        \"asin\": asin,\n",
    "    }\n",
    "\n",
    "    def getPLPage(self):\n",
    "\n",
    "        total_review = []\n",
    "\n",
    "        while True:\n",
    "\n",
    "            self.post_data[\"pageNumber\"]= self.page,\n",
    "            self.post_data[\"reftag\"] = f\"cm_cr_getr_d_paging_btm_next_{self.page}\",\n",
    "            self.post_data[\"scope\"] = f\"reviewsAjax{self.page}\",\n",
    "            spiderurl = f'https://www.amazon.com/hz/reviews-render/ajax/reviews/get/ref=cm_cr_arp_d_paging_btm_next_{self.page}'\n",
    "            res = self.getRes(spiderurl,self.headers,'',self.post_data,'POST')\n",
    "\n",
    "            if res:\n",
    "                res = res.content.decode('utf-8')\n",
    "                contents = res.split('&&&')\n",
    "                for content in contents:\n",
    "                    infos = content.split('\",\"')\n",
    "                    info = infos[-1].replace('\"]','').replace('\\\\n','').replace('\\\\','')\n",
    "                    if 'data-hook=\"review\"' in info:\n",
    "                        sel = Selector(text=info)\n",
    "                        data = {}\n",
    "                        data['product_name'] = 'Sony ZX Series Wired On-Ear Headphones, White MDR-ZX110'\n",
    "                        data['username'] = sel.xpath('//span[@class=\"a-profile-name\"]/text()').extract_first() #username\n",
    "                        data['verification'] = sel.xpath('//span[@data-hook=\"avp-badge\"]/text()').extract_first() #verified purchase\n",
    "                        data['point'] = sel.xpath('//span[@class=\"a-icon-alt\"]/text()').extract_first() #rating\n",
    "                        data['date'] = sel.xpath('//span[@data-hook=\"review-date\"]/text()').extract_first() #date\n",
    "                        data['review'] = sel.xpath('//a[@data-hook=\"review-title\"]//span').extract_first() #review title\n",
    "                        data['detail'] = sel.xpath('//span[@data-hook=\"review-body\"]//span').extract_first() #review text\n",
    "                        data['helpful'] = sel.xpath('//span[@data-hook=\"helpful-vote-statement\"]').extract_first() #helpful\n",
    "                        image = sel.xpath('div[@class=\"review-image-tile-section\"]').extract_first()\n",
    "                        data['image'] = image if image else \"not image\" #image\n",
    "                        print('data + 1')\n",
    "                        total_review.append(data)\n",
    "                \n",
    "            # Each page has 10 comments, 99 pages is 1000\n",
    "            if self.page <= 99:\n",
    "                print('Next Page')\n",
    "                self.page += 1\n",
    "            else:\n",
    "                break\n",
    "\n",
    "        df = pd.DataFrame(total_review)\n",
    "        #df.to_csv('./review_database/demo.csv')\n",
    "        print(\"Data Gathering Successful!\")\n",
    " \n",
    "    def getApiIp(self):\n",
    "        api_url = 'https://www.amazon.com/Bose-Cancelling-Wireless-Bluetooth-Headphones/dp/B07Q4QK379?ref_=ast_slp_dp&th=1&psc=1'\n",
    "        res = requests.get(api_url, timeout=5)\n",
    "        try:\n",
    "            if res.status_code == 200:\n",
    "                api_data = res.json()['data'][0]\n",
    "                proxies = {\n",
    "                    'http': 'http://{}:{}'.format(api_data['ip'], api_data['port']),\n",
    "                    'https': 'http://{}:{}'.format(api_data['ip'], api_data['port']),\n",
    "                }\n",
    "                print(proxies)\n",
    "                return proxies\n",
    "            else:\n",
    "                print('Failed to acquire.')\n",
    "        except:\n",
    "            print('Failed to acquire.')\n",
    " \n",
    "    def getRes(self,url,headers,proxies,post_data,method):\n",
    "        if proxies:\n",
    "            for i in range(3):\n",
    "                try:\n",
    "                    if method == 'POST':\n",
    "                        res = requests.post(url,headers=headers,data=post_data,proxies=proxies)\n",
    "                    else:\n",
    "                        res = requests.get(url, headers=headers,proxies=proxies)\n",
    "                    if res:\n",
    "                        return res\n",
    "                except:\n",
    "                    print(f'Error on the {i+1}th request')\n",
    "                else:\n",
    "                    return None\n",
    "        else:\n",
    "            for i in range(3):\n",
    "                proxies = self.getApiIp()\n",
    "                try:\n",
    "                    if method == 'POST':\n",
    "                        res = requests.post(url, headers=headers, data=post_data, proxies=proxies)\n",
    "                    else:\n",
    "                        res = requests.get(url, headers=headers, proxies=proxies)\n",
    "                    if res:\n",
    "                        return res\n",
    "                except:\n",
    "                    print(f\"Error on the {i+1}th request\")\n",
    "                else:\n",
    "                    return None\n",
    " \n",
    "if __name__ == '__main__':\n",
    "    data = getReview().getPLPage()"
   ]
  }
 ],
 "metadata": {
  "kernelspec": {
   "display_name": "Python 3.9.13 ('anly-580')",
   "language": "python",
   "name": "python3"
  },
  "language_info": {
   "codemirror_mode": {
    "name": "ipython",
    "version": 3
   },
   "file_extension": ".py",
   "mimetype": "text/x-python",
   "name": "python",
   "nbconvert_exporter": "python",
   "pygments_lexer": "ipython3",
   "version": "3.9.13"
  },
  "orig_nbformat": 4,
  "vscode": {
   "interpreter": {
    "hash": "3d0ada940689966664a599c36d8febfe18e2fb1c92467e2eaf94397ed24c579d"
   }
  }
 },
 "nbformat": 4,
 "nbformat_minor": 2
}
